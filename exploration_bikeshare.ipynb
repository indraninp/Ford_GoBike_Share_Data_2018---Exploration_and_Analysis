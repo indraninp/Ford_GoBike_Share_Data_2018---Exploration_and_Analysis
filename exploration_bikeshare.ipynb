{
 "cells": [
  {
   "cell_type": "markdown",
   "metadata": {
    "slideshow": {
     "slide_type": "slide"
    }
   },
   "source": [
    "# Ford GoBike Share Data 2018 - Exploration and Analysis\n",
    "\n",
    "## by Indrani Purkayastha\n"
   ]
  },
  {
   "cell_type": "markdown",
   "metadata": {
    "slideshow": {
     "slide_type": "slide"
    }
   },
   "source": [
    "## Investigation Overview\n",
    "\n",
    "  \n",
    "The Bike Share system allows users to rent bicycles for short journeys between stations throughout the city (https://www.fordgobike.com/system-data). Users can either join as an Annual Member (Subscribers) or purchase a Single Ride or Access Pass (Customers). They can pick up a bike at one of the stations whenever they need one, and drop it off at any other station when you’re done with their ride. \n",
    "\n",
    "This data set from Ford GoBike includes information about individual rides made in a bike-sharing system covering the greater San Francisco Bay area during 2018. Each trip data is anonymized and is provided for public use. Here, we analyze the data from rides between January 1, 2018 and December 31, 2018 and identify trends and interesting insights.\n",
    "\n",
    "## Dataset Overview\n",
    "\n",
    "The Ford GoBike Share Data is available as a separate csv file for each month on the Ford GoBike website. In this project, twelve separate csv files for each of the 12 months from January 2018 to December 2018 are downloaded.\n"
   ]
  },
  {
   "cell_type": "code",
   "execution_count": 1,
   "metadata": {
    "slideshow": {
     "slide_type": "skip"
    }
   },
   "outputs": [],
   "source": [
    "# import all packages and set plots to be embedded inline\n",
    "import numpy as np\n",
    "import pandas as pd\n",
    "import matplotlib.pyplot as plt\n",
    "import seaborn as sb\n",
    "\n",
    "%matplotlib inline"
   ]
  },
  {
   "cell_type": "markdown",
   "metadata": {
    "slideshow": {
     "slide_type": "skip"
    }
   },
   "source": [
    "## Preliminary Wrangling"
   ]
  },
  {
   "cell_type": "markdown",
   "metadata": {
    "slideshow": {
     "slide_type": "skip"
    }
   },
   "source": [
    "The input files are provided separately for each month. Therefore for our analysis, we need to combine the 12 separate files into a single dataframe providing information for the entire year 2018. We therefore set up a for-loop to read in each file separately to a dataframe. The multiple dataframes are concatenated into a dataframe for the entire year."
   ]
  },
  {
   "cell_type": "code",
   "execution_count": 2,
   "metadata": {
    "slideshow": {
     "slide_type": "skip"
    }
   },
   "outputs": [],
   "source": [
    "datafiles = [\"201801-fordgobike-tripdata.csv\",\\\n",
    "             \"201802-fordgobike-tripdata.csv\",\\\n",
    "             \"201803-fordgobike-tripdata.csv\",\\\n",
    "             \"201804-fordgobike-tripdata.csv\",\\\n",
    "             \"201805-fordgobike-tripdata.csv\",\\\n",
    "             \"201806-fordgobike-tripdata.csv\",\\\n",
    "             \"201807-fordgobike-tripdata.csv\",\\\n",
    "             \"201808-fordgobike-tripdata.csv\",\\\n",
    "             \"201809-fordgobike-tripdata.csv\",\\\n",
    "             \"201810-fordgobike-tripdata.csv\",\\\n",
    "             \"201811-fordgobike-tripdata.csv\",\\\n",
    "             \"201812-fordgobike-tripdata.csv\"]"
   ]
  },
  {
   "cell_type": "code",
   "execution_count": 3,
   "metadata": {
    "slideshow": {
     "slide_type": "skip"
    }
   },
   "outputs": [],
   "source": [
    "df_input = pd.DataFrame()"
   ]
  },
  {
   "cell_type": "code",
   "execution_count": 4,
   "metadata": {
    "slideshow": {
     "slide_type": "skip"
    }
   },
   "outputs": [
    {
     "name": "stdout",
     "output_type": "stream",
     "text": [
      "Number of rows in df after loading 201801-fordgobike-tripdata.csv is 94802\n",
      "Number of rows in df after loading 201802-fordgobike-tripdata.csv is 201520\n",
      "Number of rows in df after loading 201803-fordgobike-tripdata.csv is 312902\n",
      "Number of rows in df after loading 201804-fordgobike-tripdata.csv is 444071\n",
      "Number of rows in df after loading 201805-fordgobike-tripdata.csv is 623196\n",
      "Number of rows in df after loading 201806-fordgobike-tripdata.csv is 819164\n",
      "Number of rows in df after loading 201807-fordgobike-tripdata.csv is 1018386\n",
      "Number of rows in df after loading 201808-fordgobike-tripdata.csv is 1210548\n",
      "Number of rows in df after loading 201809-fordgobike-tripdata.csv is 1396765\n",
      "Number of rows in df after loading 201810-fordgobike-tripdata.csv is 1598223\n",
      "Number of rows in df after loading 201811-fordgobike-tripdata.csv is 1732358\n",
      "Number of rows in df after loading 201812-fordgobike-tripdata.csv is 1863721\n"
     ]
    }
   ],
   "source": [
    "for datafile in datafiles:\n",
    "    df1 = pd.read_csv(datafile)\n",
    "    df_input = pd.concat([df_input,df1],ignore_index = True)\n",
    "    print(\"Number of rows in df after loading {} is {}\".format(datafile,df_input.shape[0]))"
   ]
  },
  {
   "cell_type": "code",
   "execution_count": 5,
   "metadata": {
    "slideshow": {
     "slide_type": "skip"
    }
   },
   "outputs": [
    {
     "data": {
      "text/html": [
       "<div>\n",
       "<style scoped>\n",
       "    .dataframe tbody tr th:only-of-type {\n",
       "        vertical-align: middle;\n",
       "    }\n",
       "\n",
       "    .dataframe tbody tr th {\n",
       "        vertical-align: top;\n",
       "    }\n",
       "\n",
       "    .dataframe thead th {\n",
       "        text-align: right;\n",
       "    }\n",
       "</style>\n",
       "<table border=\"1\" class=\"dataframe\">\n",
       "  <thead>\n",
       "    <tr style=\"text-align: right;\">\n",
       "      <th></th>\n",
       "      <th>duration_sec</th>\n",
       "      <th>start_time</th>\n",
       "      <th>end_time</th>\n",
       "      <th>start_station_id</th>\n",
       "      <th>start_station_name</th>\n",
       "      <th>start_station_latitude</th>\n",
       "      <th>start_station_longitude</th>\n",
       "      <th>end_station_id</th>\n",
       "      <th>end_station_name</th>\n",
       "      <th>end_station_latitude</th>\n",
       "      <th>end_station_longitude</th>\n",
       "      <th>bike_id</th>\n",
       "      <th>user_type</th>\n",
       "      <th>member_birth_year</th>\n",
       "      <th>member_gender</th>\n",
       "      <th>bike_share_for_all_trip</th>\n",
       "    </tr>\n",
       "  </thead>\n",
       "  <tbody>\n",
       "    <tr>\n",
       "      <th>0</th>\n",
       "      <td>75284</td>\n",
       "      <td>2018-01-31 22:52:35.2390</td>\n",
       "      <td>2018-02-01 19:47:19.8240</td>\n",
       "      <td>120.0</td>\n",
       "      <td>Mission Dolores Park</td>\n",
       "      <td>37.761420</td>\n",
       "      <td>-122.426435</td>\n",
       "      <td>285.0</td>\n",
       "      <td>Webster St at O'Farrell St</td>\n",
       "      <td>37.783521</td>\n",
       "      <td>-122.431158</td>\n",
       "      <td>2765</td>\n",
       "      <td>Subscriber</td>\n",
       "      <td>1986.0</td>\n",
       "      <td>Male</td>\n",
       "      <td>No</td>\n",
       "    </tr>\n",
       "    <tr>\n",
       "      <th>1</th>\n",
       "      <td>85422</td>\n",
       "      <td>2018-01-31 16:13:34.3510</td>\n",
       "      <td>2018-02-01 15:57:17.3100</td>\n",
       "      <td>15.0</td>\n",
       "      <td>San Francisco Ferry Building (Harry Bridges Pl...</td>\n",
       "      <td>37.795392</td>\n",
       "      <td>-122.394203</td>\n",
       "      <td>15.0</td>\n",
       "      <td>San Francisco Ferry Building (Harry Bridges Pl...</td>\n",
       "      <td>37.795392</td>\n",
       "      <td>-122.394203</td>\n",
       "      <td>2815</td>\n",
       "      <td>Customer</td>\n",
       "      <td>NaN</td>\n",
       "      <td>NaN</td>\n",
       "      <td>No</td>\n",
       "    </tr>\n",
       "    <tr>\n",
       "      <th>2</th>\n",
       "      <td>71576</td>\n",
       "      <td>2018-01-31 14:23:55.8890</td>\n",
       "      <td>2018-02-01 10:16:52.1160</td>\n",
       "      <td>304.0</td>\n",
       "      <td>Jackson St at 5th St</td>\n",
       "      <td>37.348759</td>\n",
       "      <td>-121.894798</td>\n",
       "      <td>296.0</td>\n",
       "      <td>5th St at Virginia St</td>\n",
       "      <td>37.325998</td>\n",
       "      <td>-121.877120</td>\n",
       "      <td>3039</td>\n",
       "      <td>Customer</td>\n",
       "      <td>1996.0</td>\n",
       "      <td>Male</td>\n",
       "      <td>No</td>\n",
       "    </tr>\n",
       "    <tr>\n",
       "      <th>3</th>\n",
       "      <td>61076</td>\n",
       "      <td>2018-01-31 14:53:23.5620</td>\n",
       "      <td>2018-02-01 07:51:20.5000</td>\n",
       "      <td>75.0</td>\n",
       "      <td>Market St at Franklin St</td>\n",
       "      <td>37.773793</td>\n",
       "      <td>-122.421239</td>\n",
       "      <td>47.0</td>\n",
       "      <td>4th St at Harrison St</td>\n",
       "      <td>37.780955</td>\n",
       "      <td>-122.399749</td>\n",
       "      <td>321</td>\n",
       "      <td>Customer</td>\n",
       "      <td>NaN</td>\n",
       "      <td>NaN</td>\n",
       "      <td>No</td>\n",
       "    </tr>\n",
       "    <tr>\n",
       "      <th>4</th>\n",
       "      <td>39966</td>\n",
       "      <td>2018-01-31 19:52:24.6670</td>\n",
       "      <td>2018-02-01 06:58:31.0530</td>\n",
       "      <td>74.0</td>\n",
       "      <td>Laguna St at Hayes St</td>\n",
       "      <td>37.776435</td>\n",
       "      <td>-122.426244</td>\n",
       "      <td>19.0</td>\n",
       "      <td>Post St at Kearny St</td>\n",
       "      <td>37.788975</td>\n",
       "      <td>-122.403452</td>\n",
       "      <td>617</td>\n",
       "      <td>Subscriber</td>\n",
       "      <td>1991.0</td>\n",
       "      <td>Male</td>\n",
       "      <td>No</td>\n",
       "    </tr>\n",
       "  </tbody>\n",
       "</table>\n",
       "</div>"
      ],
      "text/plain": [
       "   duration_sec                start_time                  end_time  \\\n",
       "0         75284  2018-01-31 22:52:35.2390  2018-02-01 19:47:19.8240   \n",
       "1         85422  2018-01-31 16:13:34.3510  2018-02-01 15:57:17.3100   \n",
       "2         71576  2018-01-31 14:23:55.8890  2018-02-01 10:16:52.1160   \n",
       "3         61076  2018-01-31 14:53:23.5620  2018-02-01 07:51:20.5000   \n",
       "4         39966  2018-01-31 19:52:24.6670  2018-02-01 06:58:31.0530   \n",
       "\n",
       "   start_station_id                                 start_station_name  \\\n",
       "0             120.0                               Mission Dolores Park   \n",
       "1              15.0  San Francisco Ferry Building (Harry Bridges Pl...   \n",
       "2             304.0                               Jackson St at 5th St   \n",
       "3              75.0                           Market St at Franklin St   \n",
       "4              74.0                              Laguna St at Hayes St   \n",
       "\n",
       "   start_station_latitude  start_station_longitude  end_station_id  \\\n",
       "0               37.761420              -122.426435           285.0   \n",
       "1               37.795392              -122.394203            15.0   \n",
       "2               37.348759              -121.894798           296.0   \n",
       "3               37.773793              -122.421239            47.0   \n",
       "4               37.776435              -122.426244            19.0   \n",
       "\n",
       "                                    end_station_name  end_station_latitude  \\\n",
       "0                         Webster St at O'Farrell St             37.783521   \n",
       "1  San Francisco Ferry Building (Harry Bridges Pl...             37.795392   \n",
       "2                              5th St at Virginia St             37.325998   \n",
       "3                              4th St at Harrison St             37.780955   \n",
       "4                               Post St at Kearny St             37.788975   \n",
       "\n",
       "   end_station_longitude  bike_id   user_type  member_birth_year  \\\n",
       "0            -122.431158     2765  Subscriber             1986.0   \n",
       "1            -122.394203     2815    Customer                NaN   \n",
       "2            -121.877120     3039    Customer             1996.0   \n",
       "3            -122.399749      321    Customer                NaN   \n",
       "4            -122.403452      617  Subscriber             1991.0   \n",
       "\n",
       "  member_gender bike_share_for_all_trip  \n",
       "0          Male                      No  \n",
       "1           NaN                      No  \n",
       "2          Male                      No  \n",
       "3           NaN                      No  \n",
       "4          Male                      No  "
      ]
     },
     "execution_count": 5,
     "metadata": {},
     "output_type": "execute_result"
    }
   ],
   "source": [
    "#examine the dataset format\n",
    "df_input.head(5)"
   ]
  },
  {
   "cell_type": "code",
   "execution_count": 6,
   "metadata": {
    "slideshow": {
     "slide_type": "skip"
    }
   },
   "outputs": [
    {
     "name": "stdout",
     "output_type": "stream",
     "text": [
      "<class 'pandas.core.frame.DataFrame'>\n",
      "RangeIndex: 1863721 entries, 0 to 1863720\n",
      "Data columns (total 16 columns):\n",
      "duration_sec               int64\n",
      "start_time                 object\n",
      "end_time                   object\n",
      "start_station_id           float64\n",
      "start_station_name         object\n",
      "start_station_latitude     float64\n",
      "start_station_longitude    float64\n",
      "end_station_id             float64\n",
      "end_station_name           object\n",
      "end_station_latitude       float64\n",
      "end_station_longitude      float64\n",
      "bike_id                    int64\n",
      "user_type                  object\n",
      "member_birth_year          float64\n",
      "member_gender              object\n",
      "bike_share_for_all_trip    object\n",
      "dtypes: float64(7), int64(2), object(7)\n",
      "memory usage: 227.5+ MB\n"
     ]
    }
   ],
   "source": [
    "df_input.info()"
   ]
  },
  {
   "cell_type": "markdown",
   "metadata": {
    "slideshow": {
     "slide_type": "skip"
    }
   },
   "source": [
    "**We will make a copy of this original dataset prior to making any changes, and perform our cleaning and analysis on this copy.**"
   ]
  },
  {
   "cell_type": "code",
   "execution_count": 7,
   "metadata": {
    "slideshow": {
     "slide_type": "skip"
    }
   },
   "outputs": [
    {
     "data": {
      "text/html": [
       "<div>\n",
       "<style scoped>\n",
       "    .dataframe tbody tr th:only-of-type {\n",
       "        vertical-align: middle;\n",
       "    }\n",
       "\n",
       "    .dataframe tbody tr th {\n",
       "        vertical-align: top;\n",
       "    }\n",
       "\n",
       "    .dataframe thead th {\n",
       "        text-align: right;\n",
       "    }\n",
       "</style>\n",
       "<table border=\"1\" class=\"dataframe\">\n",
       "  <thead>\n",
       "    <tr style=\"text-align: right;\">\n",
       "      <th></th>\n",
       "      <th>duration_sec</th>\n",
       "      <th>start_time</th>\n",
       "      <th>end_time</th>\n",
       "      <th>start_station_id</th>\n",
       "      <th>start_station_name</th>\n",
       "      <th>start_station_latitude</th>\n",
       "      <th>start_station_longitude</th>\n",
       "      <th>end_station_id</th>\n",
       "      <th>end_station_name</th>\n",
       "      <th>end_station_latitude</th>\n",
       "      <th>end_station_longitude</th>\n",
       "      <th>bike_id</th>\n",
       "      <th>user_type</th>\n",
       "      <th>member_birth_year</th>\n",
       "      <th>member_gender</th>\n",
       "      <th>bike_share_for_all_trip</th>\n",
       "    </tr>\n",
       "  </thead>\n",
       "  <tbody>\n",
       "    <tr>\n",
       "      <th>0</th>\n",
       "      <td>75284</td>\n",
       "      <td>2018-01-31 22:52:35.2390</td>\n",
       "      <td>2018-02-01 19:47:19.8240</td>\n",
       "      <td>120.0</td>\n",
       "      <td>Mission Dolores Park</td>\n",
       "      <td>37.761420</td>\n",
       "      <td>-122.426435</td>\n",
       "      <td>285.0</td>\n",
       "      <td>Webster St at O'Farrell St</td>\n",
       "      <td>37.783521</td>\n",
       "      <td>-122.431158</td>\n",
       "      <td>2765</td>\n",
       "      <td>Subscriber</td>\n",
       "      <td>1986.0</td>\n",
       "      <td>Male</td>\n",
       "      <td>No</td>\n",
       "    </tr>\n",
       "    <tr>\n",
       "      <th>1</th>\n",
       "      <td>85422</td>\n",
       "      <td>2018-01-31 16:13:34.3510</td>\n",
       "      <td>2018-02-01 15:57:17.3100</td>\n",
       "      <td>15.0</td>\n",
       "      <td>San Francisco Ferry Building (Harry Bridges Pl...</td>\n",
       "      <td>37.795392</td>\n",
       "      <td>-122.394203</td>\n",
       "      <td>15.0</td>\n",
       "      <td>San Francisco Ferry Building (Harry Bridges Pl...</td>\n",
       "      <td>37.795392</td>\n",
       "      <td>-122.394203</td>\n",
       "      <td>2815</td>\n",
       "      <td>Customer</td>\n",
       "      <td>NaN</td>\n",
       "      <td>NaN</td>\n",
       "      <td>No</td>\n",
       "    </tr>\n",
       "    <tr>\n",
       "      <th>2</th>\n",
       "      <td>71576</td>\n",
       "      <td>2018-01-31 14:23:55.8890</td>\n",
       "      <td>2018-02-01 10:16:52.1160</td>\n",
       "      <td>304.0</td>\n",
       "      <td>Jackson St at 5th St</td>\n",
       "      <td>37.348759</td>\n",
       "      <td>-121.894798</td>\n",
       "      <td>296.0</td>\n",
       "      <td>5th St at Virginia St</td>\n",
       "      <td>37.325998</td>\n",
       "      <td>-121.877120</td>\n",
       "      <td>3039</td>\n",
       "      <td>Customer</td>\n",
       "      <td>1996.0</td>\n",
       "      <td>Male</td>\n",
       "      <td>No</td>\n",
       "    </tr>\n",
       "    <tr>\n",
       "      <th>3</th>\n",
       "      <td>61076</td>\n",
       "      <td>2018-01-31 14:53:23.5620</td>\n",
       "      <td>2018-02-01 07:51:20.5000</td>\n",
       "      <td>75.0</td>\n",
       "      <td>Market St at Franklin St</td>\n",
       "      <td>37.773793</td>\n",
       "      <td>-122.421239</td>\n",
       "      <td>47.0</td>\n",
       "      <td>4th St at Harrison St</td>\n",
       "      <td>37.780955</td>\n",
       "      <td>-122.399749</td>\n",
       "      <td>321</td>\n",
       "      <td>Customer</td>\n",
       "      <td>NaN</td>\n",
       "      <td>NaN</td>\n",
       "      <td>No</td>\n",
       "    </tr>\n",
       "    <tr>\n",
       "      <th>4</th>\n",
       "      <td>39966</td>\n",
       "      <td>2018-01-31 19:52:24.6670</td>\n",
       "      <td>2018-02-01 06:58:31.0530</td>\n",
       "      <td>74.0</td>\n",
       "      <td>Laguna St at Hayes St</td>\n",
       "      <td>37.776435</td>\n",
       "      <td>-122.426244</td>\n",
       "      <td>19.0</td>\n",
       "      <td>Post St at Kearny St</td>\n",
       "      <td>37.788975</td>\n",
       "      <td>-122.403452</td>\n",
       "      <td>617</td>\n",
       "      <td>Subscriber</td>\n",
       "      <td>1991.0</td>\n",
       "      <td>Male</td>\n",
       "      <td>No</td>\n",
       "    </tr>\n",
       "  </tbody>\n",
       "</table>\n",
       "</div>"
      ],
      "text/plain": [
       "   duration_sec                start_time                  end_time  \\\n",
       "0         75284  2018-01-31 22:52:35.2390  2018-02-01 19:47:19.8240   \n",
       "1         85422  2018-01-31 16:13:34.3510  2018-02-01 15:57:17.3100   \n",
       "2         71576  2018-01-31 14:23:55.8890  2018-02-01 10:16:52.1160   \n",
       "3         61076  2018-01-31 14:53:23.5620  2018-02-01 07:51:20.5000   \n",
       "4         39966  2018-01-31 19:52:24.6670  2018-02-01 06:58:31.0530   \n",
       "\n",
       "   start_station_id                                 start_station_name  \\\n",
       "0             120.0                               Mission Dolores Park   \n",
       "1              15.0  San Francisco Ferry Building (Harry Bridges Pl...   \n",
       "2             304.0                               Jackson St at 5th St   \n",
       "3              75.0                           Market St at Franklin St   \n",
       "4              74.0                              Laguna St at Hayes St   \n",
       "\n",
       "   start_station_latitude  start_station_longitude  end_station_id  \\\n",
       "0               37.761420              -122.426435           285.0   \n",
       "1               37.795392              -122.394203            15.0   \n",
       "2               37.348759              -121.894798           296.0   \n",
       "3               37.773793              -122.421239            47.0   \n",
       "4               37.776435              -122.426244            19.0   \n",
       "\n",
       "                                    end_station_name  end_station_latitude  \\\n",
       "0                         Webster St at O'Farrell St             37.783521   \n",
       "1  San Francisco Ferry Building (Harry Bridges Pl...             37.795392   \n",
       "2                              5th St at Virginia St             37.325998   \n",
       "3                              4th St at Harrison St             37.780955   \n",
       "4                               Post St at Kearny St             37.788975   \n",
       "\n",
       "   end_station_longitude  bike_id   user_type  member_birth_year  \\\n",
       "0            -122.431158     2765  Subscriber             1986.0   \n",
       "1            -122.394203     2815    Customer                NaN   \n",
       "2            -121.877120     3039    Customer             1996.0   \n",
       "3            -122.399749      321    Customer                NaN   \n",
       "4            -122.403452      617  Subscriber             1991.0   \n",
       "\n",
       "  member_gender bike_share_for_all_trip  \n",
       "0          Male                      No  \n",
       "1           NaN                      No  \n",
       "2          Male                      No  \n",
       "3           NaN                      No  \n",
       "4          Male                      No  "
      ]
     },
     "execution_count": 7,
     "metadata": {},
     "output_type": "execute_result"
    }
   ],
   "source": [
    "df = df_input.copy()\n",
    "df.head()"
   ]
  },
  {
   "cell_type": "markdown",
   "metadata": {
    "slideshow": {
     "slide_type": "skip"
    }
   },
   "source": [
    "  \n",
    "  \n",
    "\n",
    "**We will now wrangle and clean the dataset so as to make it tidy for our analysis purpose. The steps that we will follow are:**\n",
    "\n",
    "1) delete the columns not required for analysis : start_station_latitude, start_station_longitude, end_station_latitude, end_station_longitude\n",
    "\n",
    "2) Convert the incorrect datatypes for the following columns:\n",
    "\n",
    "start_time, end_time : Convert these columns into 'datetime' datatypes, and split into two separate columns for date and time.\n",
    "\n",
    "start_station_id, end_station_id : convert to integers\n",
    "\n",
    "user_type, member_gender: convert to category\n",
    "\n",
    "member_birth_year: convert to integer"
   ]
  },
  {
   "cell_type": "code",
   "execution_count": 8,
   "metadata": {
    "slideshow": {
     "slide_type": "skip"
    }
   },
   "outputs": [],
   "source": [
    "#delete redundant columns\n",
    "columns_to_be_dropped = ['start_station_latitude','start_station_longitude','end_station_latitude','end_station_longitude','bike_share_for_all_trip','bike_id']\n",
    "df = df.drop(columns_to_be_dropped, axis=1)"
   ]
  },
  {
   "cell_type": "code",
   "execution_count": 9,
   "metadata": {
    "slideshow": {
     "slide_type": "skip"
    }
   },
   "outputs": [],
   "source": [
    "from datetime import datetime\n",
    "\n",
    "#convert datatypes to datetime\n",
    "start_datetime = pd.to_datetime(df.start_time, errors='coerce')\n",
    "end_datetime = pd.to_datetime(df.end_time, errors='coerce')\n",
    "\n",
    "#split each column into separate date and time columns and include another column for the hour of the day\n",
    "df = df.assign(start_date=start_datetime.dt.date, start_time=start_datetime.dt.time)\n",
    "df = df.assign(end_date=end_datetime.dt.date, end_time=end_datetime.dt.time)\n",
    "df = df.assign(hour_of_day=start_datetime.dt.hour)"
   ]
  },
  {
   "cell_type": "code",
   "execution_count": 10,
   "metadata": {
    "slideshow": {
     "slide_type": "skip"
    }
   },
   "outputs": [],
   "source": [
    "#convert incorrect datatypes to correct datatypes\n",
    "df['start_station_id']=df['start_station_id'].fillna(0).astype(int)\n",
    "df['end_station_id']=df['end_station_id'].fillna(0).astype(int)\n",
    "df['member_birth_year']=df['member_birth_year'].fillna(0).astype(int)\n",
    "df['user_type']=df['user_type'].astype('category')\n",
    "df['member_gender']=df['member_gender'].astype('category')"
   ]
  },
  {
   "cell_type": "markdown",
   "metadata": {
    "slideshow": {
     "slide_type": "skip"
    }
   },
   "source": [
    "We now check the dataframe and confirm the changes."
   ]
  },
  {
   "cell_type": "code",
   "execution_count": 11,
   "metadata": {
    "slideshow": {
     "slide_type": "skip"
    }
   },
   "outputs": [
    {
     "data": {
      "text/html": [
       "<div>\n",
       "<style scoped>\n",
       "    .dataframe tbody tr th:only-of-type {\n",
       "        vertical-align: middle;\n",
       "    }\n",
       "\n",
       "    .dataframe tbody tr th {\n",
       "        vertical-align: top;\n",
       "    }\n",
       "\n",
       "    .dataframe thead th {\n",
       "        text-align: right;\n",
       "    }\n",
       "</style>\n",
       "<table border=\"1\" class=\"dataframe\">\n",
       "  <thead>\n",
       "    <tr style=\"text-align: right;\">\n",
       "      <th></th>\n",
       "      <th>duration_sec</th>\n",
       "      <th>start_time</th>\n",
       "      <th>end_time</th>\n",
       "      <th>start_station_id</th>\n",
       "      <th>start_station_name</th>\n",
       "      <th>end_station_id</th>\n",
       "      <th>end_station_name</th>\n",
       "      <th>user_type</th>\n",
       "      <th>member_birth_year</th>\n",
       "      <th>member_gender</th>\n",
       "      <th>start_date</th>\n",
       "      <th>end_date</th>\n",
       "      <th>hour_of_day</th>\n",
       "    </tr>\n",
       "  </thead>\n",
       "  <tbody>\n",
       "    <tr>\n",
       "      <th>273297</th>\n",
       "      <td>270</td>\n",
       "      <td>16:14:25.406000</td>\n",
       "      <td>16:18:55.687000</td>\n",
       "      <td>49</td>\n",
       "      <td>S Park St at 3rd St</td>\n",
       "      <td>27</td>\n",
       "      <td>Beale St at Harrison St</td>\n",
       "      <td>Subscriber</td>\n",
       "      <td>1982</td>\n",
       "      <td>Male</td>\n",
       "      <td>2018-03-12</td>\n",
       "      <td>2018-03-12</td>\n",
       "      <td>16</td>\n",
       "    </tr>\n",
       "    <tr>\n",
       "      <th>972790</th>\n",
       "      <td>348</td>\n",
       "      <td>12:00:29.362000</td>\n",
       "      <td>12:06:17.844000</td>\n",
       "      <td>133</td>\n",
       "      <td>Valencia St at 22nd St</td>\n",
       "      <td>98</td>\n",
       "      <td>Valencia St at 16th St</td>\n",
       "      <td>Subscriber</td>\n",
       "      <td>1994</td>\n",
       "      <td>Female</td>\n",
       "      <td>2018-07-09</td>\n",
       "      <td>2018-07-09</td>\n",
       "      <td>12</td>\n",
       "    </tr>\n",
       "    <tr>\n",
       "      <th>521443</th>\n",
       "      <td>423</td>\n",
       "      <td>07:38:34.121000</td>\n",
       "      <td>07:45:37.549000</td>\n",
       "      <td>15</td>\n",
       "      <td>San Francisco Ferry Building (Harry Bridges Pl...</td>\n",
       "      <td>6</td>\n",
       "      <td>The Embarcadero at Sansome St</td>\n",
       "      <td>Subscriber</td>\n",
       "      <td>1963</td>\n",
       "      <td>Female</td>\n",
       "      <td>2018-05-18</td>\n",
       "      <td>2018-05-18</td>\n",
       "      <td>7</td>\n",
       "    </tr>\n",
       "    <tr>\n",
       "      <th>1329651</th>\n",
       "      <td>921</td>\n",
       "      <td>14:49:26.614000</td>\n",
       "      <td>15:04:48.409000</td>\n",
       "      <td>89</td>\n",
       "      <td>Division St at Potrero Ave</td>\n",
       "      <td>37</td>\n",
       "      <td>2nd St at Folsom St</td>\n",
       "      <td>Subscriber</td>\n",
       "      <td>1965</td>\n",
       "      <td>Male</td>\n",
       "      <td>2018-09-12</td>\n",
       "      <td>2018-09-12</td>\n",
       "      <td>14</td>\n",
       "    </tr>\n",
       "    <tr>\n",
       "      <th>1776202</th>\n",
       "      <td>1620</td>\n",
       "      <td>21:01:09.720000</td>\n",
       "      <td>21:28:10.274000</td>\n",
       "      <td>95</td>\n",
       "      <td>Sanchez St at 15th St</td>\n",
       "      <td>323</td>\n",
       "      <td>Broadway at Kearny</td>\n",
       "      <td>Customer</td>\n",
       "      <td>1995</td>\n",
       "      <td>Male</td>\n",
       "      <td>2018-12-18</td>\n",
       "      <td>2018-12-18</td>\n",
       "      <td>21</td>\n",
       "    </tr>\n",
       "  </tbody>\n",
       "</table>\n",
       "</div>"
      ],
      "text/plain": [
       "         duration_sec       start_time         end_time  start_station_id  \\\n",
       "273297            270  16:14:25.406000  16:18:55.687000                49   \n",
       "972790            348  12:00:29.362000  12:06:17.844000               133   \n",
       "521443            423  07:38:34.121000  07:45:37.549000                15   \n",
       "1329651           921  14:49:26.614000  15:04:48.409000                89   \n",
       "1776202          1620  21:01:09.720000  21:28:10.274000                95   \n",
       "\n",
       "                                        start_station_name  end_station_id  \\\n",
       "273297                                 S Park St at 3rd St              27   \n",
       "972790                              Valencia St at 22nd St              98   \n",
       "521443   San Francisco Ferry Building (Harry Bridges Pl...               6   \n",
       "1329651                         Division St at Potrero Ave              37   \n",
       "1776202                              Sanchez St at 15th St             323   \n",
       "\n",
       "                      end_station_name   user_type  member_birth_year  \\\n",
       "273297         Beale St at Harrison St  Subscriber               1982   \n",
       "972790          Valencia St at 16th St  Subscriber               1994   \n",
       "521443   The Embarcadero at Sansome St  Subscriber               1963   \n",
       "1329651            2nd St at Folsom St  Subscriber               1965   \n",
       "1776202             Broadway at Kearny    Customer               1995   \n",
       "\n",
       "        member_gender  start_date    end_date  hour_of_day  \n",
       "273297           Male  2018-03-12  2018-03-12           16  \n",
       "972790         Female  2018-07-09  2018-07-09           12  \n",
       "521443         Female  2018-05-18  2018-05-18            7  \n",
       "1329651          Male  2018-09-12  2018-09-12           14  \n",
       "1776202          Male  2018-12-18  2018-12-18           21  "
      ]
     },
     "execution_count": 11,
     "metadata": {},
     "output_type": "execute_result"
    }
   ],
   "source": [
    "df.sample(5)"
   ]
  },
  {
   "cell_type": "markdown",
   "metadata": {
    "slideshow": {
     "slide_type": "skip"
    }
   },
   "source": [
    "We now rearrange the columns according to our convenience."
   ]
  },
  {
   "cell_type": "code",
   "execution_count": 12,
   "metadata": {
    "slideshow": {
     "slide_type": "skip"
    }
   },
   "outputs": [
    {
     "data": {
      "text/plain": [
       "['duration_sec',\n",
       " 'start_time',\n",
       " 'end_time',\n",
       " 'start_station_id',\n",
       " 'start_station_name',\n",
       " 'end_station_id',\n",
       " 'end_station_name',\n",
       " 'user_type',\n",
       " 'member_birth_year',\n",
       " 'member_gender',\n",
       " 'start_date',\n",
       " 'end_date',\n",
       " 'hour_of_day']"
      ]
     },
     "execution_count": 12,
     "metadata": {},
     "output_type": "execute_result"
    }
   ],
   "source": [
    "cols = list(df.columns.values)\n",
    "cols"
   ]
  },
  {
   "cell_type": "code",
   "execution_count": 13,
   "metadata": {
    "slideshow": {
     "slide_type": "skip"
    }
   },
   "outputs": [],
   "source": [
    "df = df[['start_date','start_time','end_date','end_time','hour_of_day','duration_sec',\\\n",
    "               'start_station_id','start_station_name','end_station_id','end_station_name',\\\n",
    "               'user_type', 'member_birth_year','member_gender']]"
   ]
  },
  {
   "cell_type": "code",
   "execution_count": 14,
   "metadata": {
    "slideshow": {
     "slide_type": "skip"
    }
   },
   "outputs": [
    {
     "data": {
      "text/html": [
       "<div>\n",
       "<style scoped>\n",
       "    .dataframe tbody tr th:only-of-type {\n",
       "        vertical-align: middle;\n",
       "    }\n",
       "\n",
       "    .dataframe tbody tr th {\n",
       "        vertical-align: top;\n",
       "    }\n",
       "\n",
       "    .dataframe thead th {\n",
       "        text-align: right;\n",
       "    }\n",
       "</style>\n",
       "<table border=\"1\" class=\"dataframe\">\n",
       "  <thead>\n",
       "    <tr style=\"text-align: right;\">\n",
       "      <th></th>\n",
       "      <th>start_date</th>\n",
       "      <th>start_time</th>\n",
       "      <th>end_date</th>\n",
       "      <th>end_time</th>\n",
       "      <th>hour_of_day</th>\n",
       "      <th>duration_sec</th>\n",
       "      <th>start_station_id</th>\n",
       "      <th>start_station_name</th>\n",
       "      <th>end_station_id</th>\n",
       "      <th>end_station_name</th>\n",
       "      <th>user_type</th>\n",
       "      <th>member_birth_year</th>\n",
       "      <th>member_gender</th>\n",
       "    </tr>\n",
       "  </thead>\n",
       "  <tbody>\n",
       "    <tr>\n",
       "      <th>1217850</th>\n",
       "      <td>2018-09-29</td>\n",
       "      <td>11:59:04.009000</td>\n",
       "      <td>2018-09-29</td>\n",
       "      <td>12:28:44.834000</td>\n",
       "      <td>11</td>\n",
       "      <td>1780</td>\n",
       "      <td>21</td>\n",
       "      <td>Montgomery St BART Station (Market St at 2nd St)</td>\n",
       "      <td>285</td>\n",
       "      <td>Webster St at O'Farrell St</td>\n",
       "      <td>Subscriber</td>\n",
       "      <td>1965</td>\n",
       "      <td>Male</td>\n",
       "    </tr>\n",
       "    <tr>\n",
       "      <th>1081678</th>\n",
       "      <td>2018-08-21</td>\n",
       "      <td>19:33:34.486000</td>\n",
       "      <td>2018-08-21</td>\n",
       "      <td>19:40:22.395000</td>\n",
       "      <td>19</td>\n",
       "      <td>407</td>\n",
       "      <td>41</td>\n",
       "      <td>Golden Gate Ave at Polk St</td>\n",
       "      <td>88</td>\n",
       "      <td>11th St at Bryant St</td>\n",
       "      <td>Subscriber</td>\n",
       "      <td>1986</td>\n",
       "      <td>Male</td>\n",
       "    </tr>\n",
       "    <tr>\n",
       "      <th>884768</th>\n",
       "      <td>2018-07-21</td>\n",
       "      <td>20:55:32.618000</td>\n",
       "      <td>2018-07-21</td>\n",
       "      <td>21:03:24.155000</td>\n",
       "      <td>20</td>\n",
       "      <td>471</td>\n",
       "      <td>36</td>\n",
       "      <td>Folsom St at 3rd St</td>\n",
       "      <td>5</td>\n",
       "      <td>Powell St BART Station (Market St at 5th St)</td>\n",
       "      <td>Subscriber</td>\n",
       "      <td>1958</td>\n",
       "      <td>Other</td>\n",
       "    </tr>\n",
       "    <tr>\n",
       "      <th>1043997</th>\n",
       "      <td>2018-08-28</td>\n",
       "      <td>09:04:25.042000</td>\n",
       "      <td>2018-08-28</td>\n",
       "      <td>09:18:24.866000</td>\n",
       "      <td>9</td>\n",
       "      <td>839</td>\n",
       "      <td>120</td>\n",
       "      <td>Mission Dolores Park</td>\n",
       "      <td>80</td>\n",
       "      <td>Townsend St at 5th St</td>\n",
       "      <td>Customer</td>\n",
       "      <td>1988</td>\n",
       "      <td>Male</td>\n",
       "    </tr>\n",
       "    <tr>\n",
       "      <th>347329</th>\n",
       "      <td>2018-04-24</td>\n",
       "      <td>15:03:10.309000</td>\n",
       "      <td>2018-04-24</td>\n",
       "      <td>15:15:39.718000</td>\n",
       "      <td>15</td>\n",
       "      <td>749</td>\n",
       "      <td>27</td>\n",
       "      <td>Beale St at Harrison St</td>\n",
       "      <td>78</td>\n",
       "      <td>Folsom St at 9th St</td>\n",
       "      <td>Subscriber</td>\n",
       "      <td>1980</td>\n",
       "      <td>Male</td>\n",
       "    </tr>\n",
       "  </tbody>\n",
       "</table>\n",
       "</div>"
      ],
      "text/plain": [
       "         start_date       start_time    end_date         end_time  \\\n",
       "1217850  2018-09-29  11:59:04.009000  2018-09-29  12:28:44.834000   \n",
       "1081678  2018-08-21  19:33:34.486000  2018-08-21  19:40:22.395000   \n",
       "884768   2018-07-21  20:55:32.618000  2018-07-21  21:03:24.155000   \n",
       "1043997  2018-08-28  09:04:25.042000  2018-08-28  09:18:24.866000   \n",
       "347329   2018-04-24  15:03:10.309000  2018-04-24  15:15:39.718000   \n",
       "\n",
       "         hour_of_day  duration_sec  start_station_id  \\\n",
       "1217850           11          1780                21   \n",
       "1081678           19           407                41   \n",
       "884768            20           471                36   \n",
       "1043997            9           839               120   \n",
       "347329            15           749                27   \n",
       "\n",
       "                                       start_station_name  end_station_id  \\\n",
       "1217850  Montgomery St BART Station (Market St at 2nd St)             285   \n",
       "1081678                        Golden Gate Ave at Polk St              88   \n",
       "884768                                Folsom St at 3rd St               5   \n",
       "1043997                              Mission Dolores Park              80   \n",
       "347329                            Beale St at Harrison St              78   \n",
       "\n",
       "                                     end_station_name   user_type  \\\n",
       "1217850                    Webster St at O'Farrell St  Subscriber   \n",
       "1081678                          11th St at Bryant St  Subscriber   \n",
       "884768   Powell St BART Station (Market St at 5th St)  Subscriber   \n",
       "1043997                         Townsend St at 5th St    Customer   \n",
       "347329                            Folsom St at 9th St  Subscriber   \n",
       "\n",
       "         member_birth_year member_gender  \n",
       "1217850               1965          Male  \n",
       "1081678               1986          Male  \n",
       "884768                1958         Other  \n",
       "1043997               1988          Male  \n",
       "347329                1980          Male  "
      ]
     },
     "execution_count": 14,
     "metadata": {},
     "output_type": "execute_result"
    }
   ],
   "source": [
    "df.sample(5)"
   ]
  },
  {
   "cell_type": "code",
   "execution_count": 15,
   "metadata": {
    "slideshow": {
     "slide_type": "skip"
    }
   },
   "outputs": [
    {
     "name": "stdout",
     "output_type": "stream",
     "text": [
      "<class 'pandas.core.frame.DataFrame'>\n",
      "RangeIndex: 1863721 entries, 0 to 1863720\n",
      "Data columns (total 13 columns):\n",
      "start_date            object\n",
      "start_time            object\n",
      "end_date              object\n",
      "end_time              object\n",
      "hour_of_day           int64\n",
      "duration_sec          int64\n",
      "start_station_id      int32\n",
      "start_station_name    object\n",
      "end_station_id        int32\n",
      "end_station_name      object\n",
      "user_type             category\n",
      "member_birth_year     int32\n",
      "member_gender         category\n",
      "dtypes: category(2), int32(3), int64(2), object(6)\n",
      "memory usage: 138.6+ MB\n"
     ]
    }
   ],
   "source": [
    "df.info()"
   ]
  },
  {
   "cell_type": "code",
   "execution_count": 16,
   "metadata": {
    "slideshow": {
     "slide_type": "skip"
    }
   },
   "outputs": [
    {
     "data": {
      "text/html": [
       "<div>\n",
       "<style scoped>\n",
       "    .dataframe tbody tr th:only-of-type {\n",
       "        vertical-align: middle;\n",
       "    }\n",
       "\n",
       "    .dataframe tbody tr th {\n",
       "        vertical-align: top;\n",
       "    }\n",
       "\n",
       "    .dataframe thead th {\n",
       "        text-align: right;\n",
       "    }\n",
       "</style>\n",
       "<table border=\"1\" class=\"dataframe\">\n",
       "  <thead>\n",
       "    <tr style=\"text-align: right;\">\n",
       "      <th></th>\n",
       "      <th>hour_of_day</th>\n",
       "      <th>duration_sec</th>\n",
       "      <th>start_station_id</th>\n",
       "      <th>end_station_id</th>\n",
       "      <th>member_birth_year</th>\n",
       "    </tr>\n",
       "  </thead>\n",
       "  <tbody>\n",
       "    <tr>\n",
       "      <th>count</th>\n",
       "      <td>1.863721e+06</td>\n",
       "      <td>1.863721e+06</td>\n",
       "      <td>1.863721e+06</td>\n",
       "      <td>1.863721e+06</td>\n",
       "      <td>1.863721e+06</td>\n",
       "    </tr>\n",
       "    <tr>\n",
       "      <th>mean</th>\n",
       "      <td>1.351437e+01</td>\n",
       "      <td>8.573026e+02</td>\n",
       "      <td>1.189186e+02</td>\n",
       "      <td>1.174266e+02</td>\n",
       "      <td>1.865279e+03</td>\n",
       "    </tr>\n",
       "    <tr>\n",
       "      <th>std</th>\n",
       "      <td>4.742223e+00</td>\n",
       "      <td>2.370379e+03</td>\n",
       "      <td>1.005281e+02</td>\n",
       "      <td>1.005593e+02</td>\n",
       "      <td>4.688814e+02</td>\n",
       "    </tr>\n",
       "    <tr>\n",
       "      <th>min</th>\n",
       "      <td>0.000000e+00</td>\n",
       "      <td>6.100000e+01</td>\n",
       "      <td>0.000000e+00</td>\n",
       "      <td>0.000000e+00</td>\n",
       "      <td>0.000000e+00</td>\n",
       "    </tr>\n",
       "    <tr>\n",
       "      <th>25%</th>\n",
       "      <td>9.000000e+00</td>\n",
       "      <td>3.500000e+02</td>\n",
       "      <td>3.000000e+01</td>\n",
       "      <td>3.000000e+01</td>\n",
       "      <td>1.975000e+03</td>\n",
       "    </tr>\n",
       "    <tr>\n",
       "      <th>50%</th>\n",
       "      <td>1.400000e+01</td>\n",
       "      <td>5.560000e+02</td>\n",
       "      <td>8.800000e+01</td>\n",
       "      <td>8.700000e+01</td>\n",
       "      <td>1.985000e+03</td>\n",
       "    </tr>\n",
       "    <tr>\n",
       "      <th>75%</th>\n",
       "      <td>1.700000e+01</td>\n",
       "      <td>8.720000e+02</td>\n",
       "      <td>1.830000e+02</td>\n",
       "      <td>1.830000e+02</td>\n",
       "      <td>1.990000e+03</td>\n",
       "    </tr>\n",
       "    <tr>\n",
       "      <th>max</th>\n",
       "      <td>2.300000e+01</td>\n",
       "      <td>8.636600e+04</td>\n",
       "      <td>3.810000e+02</td>\n",
       "      <td>3.810000e+02</td>\n",
       "      <td>2.000000e+03</td>\n",
       "    </tr>\n",
       "  </tbody>\n",
       "</table>\n",
       "</div>"
      ],
      "text/plain": [
       "        hour_of_day  duration_sec  start_station_id  end_station_id  \\\n",
       "count  1.863721e+06  1.863721e+06      1.863721e+06    1.863721e+06   \n",
       "mean   1.351437e+01  8.573026e+02      1.189186e+02    1.174266e+02   \n",
       "std    4.742223e+00  2.370379e+03      1.005281e+02    1.005593e+02   \n",
       "min    0.000000e+00  6.100000e+01      0.000000e+00    0.000000e+00   \n",
       "25%    9.000000e+00  3.500000e+02      3.000000e+01    3.000000e+01   \n",
       "50%    1.400000e+01  5.560000e+02      8.800000e+01    8.700000e+01   \n",
       "75%    1.700000e+01  8.720000e+02      1.830000e+02    1.830000e+02   \n",
       "max    2.300000e+01  8.636600e+04      3.810000e+02    3.810000e+02   \n",
       "\n",
       "       member_birth_year  \n",
       "count       1.863721e+06  \n",
       "mean        1.865279e+03  \n",
       "std         4.688814e+02  \n",
       "min         0.000000e+00  \n",
       "25%         1.975000e+03  \n",
       "50%         1.985000e+03  \n",
       "75%         1.990000e+03  \n",
       "max         2.000000e+03  "
      ]
     },
     "execution_count": 16,
     "metadata": {},
     "output_type": "execute_result"
    }
   ],
   "source": [
    "df.describe()"
   ]
  },
  {
   "cell_type": "markdown",
   "metadata": {
    "slideshow": {
     "slide_type": "skip"
    }
   },
   "source": [
    "### What is the structure of your dataset?\n",
    "\n",
    "There are 1863721 records in the dataset. The cleaned dataset contains 12 features for each bike ride record in the dataset duration_sec, start_date, start_time, end_date, end_time, start_station_id, start_station_name, end_station_id, end_station_name, user_type, member_birth_year, member_gender). Of these, user type and member gender are categorical variables.\n",
    "\n",
    "### What is/are the main feature(s) of interest in your dataset?\n",
    "\n",
    "I'm interested to use this dataset to find out how, when, where and by whom the bike share is mostly used. Using the data, I'd like to analyse and find the answers to the following questions:\n",
    "\n",
    "1. What is the duration of a bike ride, on an average?\n",
    "\n",
    "2. What is the total number of bike share rides in a year? Does the number of rides vary between the months/ seasons?Is there any noticeable trend that can be observed in the use over the months? Which is the busiest month of the year and which is the calmest?\n",
    "\n",
    "3. Is there any trend between the bike use on different days of the week, particularly between weekdays and weekends? Which is the busiest and less busy days of the week, if any?\n",
    "\n",
    "4. Are there any differences of behavior that can be observed amongst customers and subscribers? Can any inferences be drawn from these?\n",
    "\n",
    "5. Which are the most popular starting stations and end stations? Which are the least popular ones?\n",
    "\n",
    "6. How do the number of users vary by age? Is the bike share system more popular among any particular age group?\n",
    "\n",
    "\n",
    "\n",
    "### What features in the dataset do you think will help support your investigation into your feature(s) of interest?\n",
    "\n",
    "I expect that there will be variation in the number of bike share users during different months and days of the week. There are likely to be more busy times and less busy times, more popular stations or less popular ones. I expect there will be differences in trends in bike uses between subscribers (who hold a membership plan and use the service on a regular basis) and customers (who purchase a single ride or a access pass for a short duration). \n",
    "\n"
   ]
  },
  {
   "cell_type": "markdown",
   "metadata": {
    "slideshow": {
     "slide_type": "skip"
    }
   },
   "source": [
    "## Univariate Exploration\n",
    "\n",
    "> In this section, we investigate distributions of individual variables and look for any outliers."
   ]
  },
  {
   "cell_type": "markdown",
   "metadata": {
    "slideshow": {
     "slide_type": "slide"
    }
   },
   "source": [
    "### Duration of bike rides"
   ]
  },
  {
   "cell_type": "markdown",
   "metadata": {
    "slideshow": {
     "slide_type": "subslide"
    }
   },
   "source": [
    "**We would like to find out how the bike service is used in order to answer the following questions:**\n",
    "\n",
    "**- Do most users use the service for short trips or longer ones?**\n",
    "\n",
    "\n",
    "**- What is the most common time duration for which a bike is rented?**"
   ]
  },
  {
   "cell_type": "markdown",
   "metadata": {
    "slideshow": {
     "slide_type": "skip"
    }
   },
   "source": [
    "#### Duration of bike rides in seconds"
   ]
  },
  {
   "cell_type": "markdown",
   "metadata": {
    "slideshow": {
     "slide_type": "skip"
    }
   },
   "source": [
    "We'll start by looking at the distribution of the duration of bike rides. From the statistical parameters obtained, we can see that the minimum duration is 61 seconds and the maximum duration is 86366 seconds. The mean is 857 seconds and more than 75% of the observations are below 872 seconds. The mean duration is so we'll look at the distribution by dividing the observations into bins of size 200 and plotting a histogram."
   ]
  },
  {
   "cell_type": "code",
   "execution_count": 17,
   "metadata": {
    "slideshow": {
     "slide_type": "skip"
    }
   },
   "outputs": [
    {
     "data": {
      "text/plain": [
       "count    1.863721e+06\n",
       "mean     8.573026e+02\n",
       "std      2.370379e+03\n",
       "min      6.100000e+01\n",
       "25%      3.500000e+02\n",
       "50%      5.560000e+02\n",
       "75%      8.720000e+02\n",
       "max      8.636600e+04\n",
       "Name: duration_sec, dtype: float64"
      ]
     },
     "execution_count": 17,
     "metadata": {},
     "output_type": "execute_result"
    }
   ],
   "source": [
    "df['duration_sec'].describe()"
   ]
  },
  {
   "cell_type": "code",
   "execution_count": 18,
   "metadata": {
    "slideshow": {
     "slide_type": "skip"
    }
   },
   "outputs": [
    {
     "data": {
      "image/png": "[encoded data removed]",
      "text/plain": [
       "<Figure size 576x360 with 1 Axes>"
      ]
     },
     "metadata": {
      "needs_background": "light"
     },
     "output_type": "display_data"
    }
   ],
   "source": [
    "binsize = 200\n",
    "bins = np.arange(60, df['duration_sec'].max()+binsize, binsize)\n",
    "plt.figure(figsize=[8, 5])\n",
    "plt.hist(data = df, x = 'duration_sec', bins = bins)\n",
    "plt.xlabel('Duration of bike ride in seconds')\n",
    "plt.xticks([10000,20000,30000,40000,50000,60000,70000,80000])\n",
    "plt.show()"
   ]
  },
  {
   "cell_type": "markdown",
   "metadata": {
    "slideshow": {
     "slide_type": "skip"
    }
   },
   "source": [
    "From this plot we can observe that most of the data points lie to the far left of their axes, suggesting some strong outliers on the right. Most of the observations are between around 0-10000 seconds whereas there are few outliers beyond this range. Therfore, we can change our axis limits to focus our observations on the range of our interest where most of our observation points lie."
   ]
  },
  {
   "cell_type": "code",
   "execution_count": 19,
   "metadata": {
    "slideshow": {
     "slide_type": "skip"
    }
   },
   "outputs": [
    {
     "data": {
      "image/png": "[encoded data removed]",
      "text/plain": [
       "<Figure size 576x360 with 1 Axes>"
      ]
     },
     "metadata": {
      "needs_background": "light"
     },
     "output_type": "display_data"
    }
   ],
   "source": [
    "binsize = 100\n",
    "bins = np.arange(60, df['duration_sec'].max()+binsize, binsize)\n",
    "plt.figure(figsize=[8, 5])\n",
    "plt.hist(data = df, x = 'duration_sec', bins = bins)\n",
    "plt.xlabel('Duration of bike ride in seconds')\n",
    "plt.ylabel('Count')\n",
    "plt.xlim(0,3000)\n",
    "plt.xticks([250,500,750,1000,1250,1500,1750,2000,2250,2500,2750,2000])\n",
    "plt.show()"
   ]
  },
  {
   "cell_type": "markdown",
   "metadata": {
    "slideshow": {
     "slide_type": "skip"
    }
   },
   "source": [
    "**As it is difficult for us to carry out our analysis with the time unit in seconds, we will plot the same figures but in units of minutes instead of in seconds. For this purpose we will add a new variable to our dataframe called 'duration_minutes', which will have a value given be duration_sec/60. We will now plot the same data with the duration unit in minutes.**"
   ]
  },
  {
   "cell_type": "markdown",
   "metadata": {
    "slideshow": {
     "slide_type": "skip"
    }
   },
   "source": [
    "#### Duration of Bike Rides in minutes"
   ]
  },
  {
   "cell_type": "code",
   "execution_count": 20,
   "metadata": {
    "slideshow": {
     "slide_type": "skip"
    }
   },
   "outputs": [
    {
     "data": {
      "text/html": [
       "<div>\n",
       "<style scoped>\n",
       "    .dataframe tbody tr th:only-of-type {\n",
       "        vertical-align: middle;\n",
       "    }\n",
       "\n",
       "    .dataframe tbody tr th {\n",
       "        vertical-align: top;\n",
       "    }\n",
       "\n",
       "    .dataframe thead th {\n",
       "        text-align: right;\n",
       "    }\n",
       "</style>\n",
       "<table border=\"1\" class=\"dataframe\">\n",
       "  <thead>\n",
       "    <tr style=\"text-align: right;\">\n",
       "      <th></th>\n",
       "      <th>start_date</th>\n",
       "      <th>start_time</th>\n",
       "      <th>end_date</th>\n",
       "      <th>end_time</th>\n",
       "      <th>hour_of_day</th>\n",
       "      <th>duration_sec</th>\n",
       "      <th>start_station_id</th>\n",
       "      <th>start_station_name</th>\n",
       "      <th>end_station_id</th>\n",
       "      <th>end_station_name</th>\n",
       "      <th>user_type</th>\n",
       "      <th>member_birth_year</th>\n",
       "      <th>member_gender</th>\n",
       "      <th>duration_minutes</th>\n",
       "    </tr>\n",
       "  </thead>\n",
       "  <tbody>\n",
       "    <tr>\n",
       "      <th>730128</th>\n",
       "      <td>2018-06-14</td>\n",
       "      <td>18:05:08.239000</td>\n",
       "      <td>2018-06-14</td>\n",
       "      <td>18:12:18.014000</td>\n",
       "      <td>18</td>\n",
       "      <td>429</td>\n",
       "      <td>124</td>\n",
       "      <td>19th St at Florida St</td>\n",
       "      <td>223</td>\n",
       "      <td>16th St Mission BART Station 2</td>\n",
       "      <td>Subscriber</td>\n",
       "      <td>1990</td>\n",
       "      <td>Male</td>\n",
       "      <td>7.150000</td>\n",
       "    </tr>\n",
       "    <tr>\n",
       "      <th>1128578</th>\n",
       "      <td>2018-08-14</td>\n",
       "      <td>08:58:29.889000</td>\n",
       "      <td>2018-08-14</td>\n",
       "      <td>09:04:21.038000</td>\n",
       "      <td>8</td>\n",
       "      <td>351</td>\n",
       "      <td>139</td>\n",
       "      <td>Garfield Square (25th St at Harrison St)</td>\n",
       "      <td>141</td>\n",
       "      <td>Valencia St at Cesar Chavez St</td>\n",
       "      <td>Subscriber</td>\n",
       "      <td>1990</td>\n",
       "      <td>Female</td>\n",
       "      <td>5.850000</td>\n",
       "    </tr>\n",
       "    <tr>\n",
       "      <th>1807731</th>\n",
       "      <td>2018-12-12</td>\n",
       "      <td>19:20:59.904000</td>\n",
       "      <td>2018-12-12</td>\n",
       "      <td>19:30:27.677000</td>\n",
       "      <td>19</td>\n",
       "      <td>567</td>\n",
       "      <td>22</td>\n",
       "      <td>Howard St at Beale St</td>\n",
       "      <td>92</td>\n",
       "      <td>Mission Bay Kids Park</td>\n",
       "      <td>Subscriber</td>\n",
       "      <td>1986</td>\n",
       "      <td>Male</td>\n",
       "      <td>9.450000</td>\n",
       "    </tr>\n",
       "    <tr>\n",
       "      <th>1808310</th>\n",
       "      <td>2018-12-12</td>\n",
       "      <td>18:14:26.962000</td>\n",
       "      <td>2018-12-12</td>\n",
       "      <td>18:24:35.932000</td>\n",
       "      <td>18</td>\n",
       "      <td>608</td>\n",
       "      <td>11</td>\n",
       "      <td>Davis St at Jackson St</td>\n",
       "      <td>49</td>\n",
       "      <td>S Park St at 3rd St</td>\n",
       "      <td>Subscriber</td>\n",
       "      <td>1977</td>\n",
       "      <td>Male</td>\n",
       "      <td>10.133333</td>\n",
       "    </tr>\n",
       "    <tr>\n",
       "      <th>1084892</th>\n",
       "      <td>2018-08-21</td>\n",
       "      <td>13:25:59.938000</td>\n",
       "      <td>2018-08-21</td>\n",
       "      <td>13:38:13.326000</td>\n",
       "      <td>13</td>\n",
       "      <td>733</td>\n",
       "      <td>6</td>\n",
       "      <td>The Embarcadero at Sansome St</td>\n",
       "      <td>21</td>\n",
       "      <td>Montgomery St BART Station (Market St at 2nd St)</td>\n",
       "      <td>Customer</td>\n",
       "      <td>0</td>\n",
       "      <td>NaN</td>\n",
       "      <td>12.216667</td>\n",
       "    </tr>\n",
       "  </tbody>\n",
       "</table>\n",
       "</div>"
      ],
      "text/plain": [
       "         start_date       start_time    end_date         end_time  \\\n",
       "730128   2018-06-14  18:05:08.239000  2018-06-14  18:12:18.014000   \n",
       "1128578  2018-08-14  08:58:29.889000  2018-08-14  09:04:21.038000   \n",
       "1807731  2018-12-12  19:20:59.904000  2018-12-12  19:30:27.677000   \n",
       "1808310  2018-12-12  18:14:26.962000  2018-12-12  18:24:35.932000   \n",
       "1084892  2018-08-21  13:25:59.938000  2018-08-21  13:38:13.326000   \n",
       "\n",
       "         hour_of_day  duration_sec  start_station_id  \\\n",
       "730128            18           429               124   \n",
       "1128578            8           351               139   \n",
       "1807731           19           567                22   \n",
       "1808310           18           608                11   \n",
       "1084892           13           733                 6   \n",
       "\n",
       "                               start_station_name  end_station_id  \\\n",
       "730128                      19th St at Florida St             223   \n",
       "1128578  Garfield Square (25th St at Harrison St)             141   \n",
       "1807731                     Howard St at Beale St              92   \n",
       "1808310                    Davis St at Jackson St              49   \n",
       "1084892             The Embarcadero at Sansome St              21   \n",
       "\n",
       "                                         end_station_name   user_type  \\\n",
       "730128                     16th St Mission BART Station 2  Subscriber   \n",
       "1128578                    Valencia St at Cesar Chavez St  Subscriber   \n",
       "1807731                             Mission Bay Kids Park  Subscriber   \n",
       "1808310                               S Park St at 3rd St  Subscriber   \n",
       "1084892  Montgomery St BART Station (Market St at 2nd St)    Customer   \n",
       "\n",
       "         member_birth_year member_gender  duration_minutes  \n",
       "730128                1990          Male          7.150000  \n",
       "1128578               1990        Female          5.850000  \n",
       "1807731               1986          Male          9.450000  \n",
       "1808310               1977          Male         10.133333  \n",
       "1084892                  0           NaN         12.216667  "
      ]
     },
     "execution_count": 20,
     "metadata": {},
     "output_type": "execute_result"
    }
   ],
   "source": [
    "df['duration_minutes']= df['duration_sec']/60\n",
    "df.sample(5)"
   ]
  },
  {
   "cell_type": "code",
   "execution_count": 21,
   "metadata": {
    "slideshow": {
     "slide_type": "skip"
    }
   },
   "outputs": [
    {
     "data": {
      "text/plain": [
       "count    1.863721e+06\n",
       "mean     1.428838e+01\n",
       "std      3.950631e+01\n",
       "min      1.016667e+00\n",
       "25%      5.833333e+00\n",
       "50%      9.266667e+00\n",
       "75%      1.453333e+01\n",
       "max      1.439433e+03\n",
       "Name: duration_minutes, dtype: float64"
      ]
     },
     "execution_count": 21,
     "metadata": {},
     "output_type": "execute_result"
    }
   ],
   "source": [
    "df['duration_minutes'].describe()"
   ]
  },
  {
   "cell_type": "code",
   "execution_count": 22,
   "metadata": {
    "slideshow": {
     "slide_type": "subslide"
    }
   },
   "outputs": [
    {
     "data": {
      "image/png": "[encoded data removed]",
      "text/plain": [
       "<Figure size 864x576 with 1 Axes>"
      ]
     },
     "metadata": {
      "needs_background": "light"
     },
     "output_type": "display_data"
    }
   ],
   "source": [
    "binsize = 2\n",
    "bins = np.arange(1, df['duration_minutes'].max()+binsize, binsize)\n",
    "plt.figure(figsize=[12, 8])\n",
    "plt.hist(data = df, x = 'duration_minutes', bins = bins)\n",
    "plt.xlabel('Duration of bike ride in minutes',fontsize=14)\n",
    "plt.ylabel('Count',fontsize=14)\n",
    "plt.title('Bike Rides Count by Duration',fontsize=18)\n",
    "plt.xlim(0,50)\n",
    "plt.xticks([5,10,15,20,25,30,35,40,45,50])\n",
    "plt.show()"
   ]
  },
  {
   "cell_type": "code",
   "execution_count": 23,
   "metadata": {
    "slideshow": {
     "slide_type": "skip"
    }
   },
   "outputs": [
    {
     "name": "stdout",
     "output_type": "stream",
     "text": [
      "False    1856681\n",
      "True        7040\n",
      "Name: duration_minutes, dtype: int64\n"
     ]
    },
    {
     "data": {
      "text/html": [
       "<div>\n",
       "<style scoped>\n",
       "    .dataframe tbody tr th:only-of-type {\n",
       "        vertical-align: middle;\n",
       "    }\n",
       "\n",
       "    .dataframe tbody tr th {\n",
       "        vertical-align: top;\n",
       "    }\n",
       "\n",
       "    .dataframe thead th {\n",
       "        text-align: right;\n",
       "    }\n",
       "</style>\n",
       "<table border=\"1\" class=\"dataframe\">\n",
       "  <thead>\n",
       "    <tr style=\"text-align: right;\">\n",
       "      <th></th>\n",
       "      <th>start_date</th>\n",
       "      <th>start_time</th>\n",
       "      <th>end_date</th>\n",
       "      <th>end_time</th>\n",
       "      <th>hour_of_day</th>\n",
       "      <th>duration_sec</th>\n",
       "      <th>start_station_id</th>\n",
       "      <th>start_station_name</th>\n",
       "      <th>end_station_id</th>\n",
       "      <th>end_station_name</th>\n",
       "      <th>user_type</th>\n",
       "      <th>member_birth_year</th>\n",
       "      <th>member_gender</th>\n",
       "      <th>duration_minutes</th>\n",
       "    </tr>\n",
       "  </thead>\n",
       "  <tbody>\n",
       "    <tr>\n",
       "      <th>0</th>\n",
       "      <td>2018-01-31</td>\n",
       "      <td>22:52:35.239000</td>\n",
       "      <td>2018-02-01</td>\n",
       "      <td>19:47:19.824000</td>\n",
       "      <td>22</td>\n",
       "      <td>75284</td>\n",
       "      <td>120</td>\n",
       "      <td>Mission Dolores Park</td>\n",
       "      <td>285</td>\n",
       "      <td>Webster St at O'Farrell St</td>\n",
       "      <td>Subscriber</td>\n",
       "      <td>1986</td>\n",
       "      <td>Male</td>\n",
       "      <td>1254.733333</td>\n",
       "    </tr>\n",
       "    <tr>\n",
       "      <th>1</th>\n",
       "      <td>2018-01-31</td>\n",
       "      <td>16:13:34.351000</td>\n",
       "      <td>2018-02-01</td>\n",
       "      <td>15:57:17.310000</td>\n",
       "      <td>16</td>\n",
       "      <td>85422</td>\n",
       "      <td>15</td>\n",
       "      <td>San Francisco Ferry Building (Harry Bridges Pl...</td>\n",
       "      <td>15</td>\n",
       "      <td>San Francisco Ferry Building (Harry Bridges Pl...</td>\n",
       "      <td>Customer</td>\n",
       "      <td>0</td>\n",
       "      <td>NaN</td>\n",
       "      <td>1423.700000</td>\n",
       "    </tr>\n",
       "    <tr>\n",
       "      <th>2</th>\n",
       "      <td>2018-01-31</td>\n",
       "      <td>14:23:55.889000</td>\n",
       "      <td>2018-02-01</td>\n",
       "      <td>10:16:52.116000</td>\n",
       "      <td>14</td>\n",
       "      <td>71576</td>\n",
       "      <td>304</td>\n",
       "      <td>Jackson St at 5th St</td>\n",
       "      <td>296</td>\n",
       "      <td>5th St at Virginia St</td>\n",
       "      <td>Customer</td>\n",
       "      <td>1996</td>\n",
       "      <td>Male</td>\n",
       "      <td>1192.933333</td>\n",
       "    </tr>\n",
       "    <tr>\n",
       "      <th>3</th>\n",
       "      <td>2018-01-31</td>\n",
       "      <td>14:53:23.562000</td>\n",
       "      <td>2018-02-01</td>\n",
       "      <td>07:51:20.500000</td>\n",
       "      <td>14</td>\n",
       "      <td>61076</td>\n",
       "      <td>75</td>\n",
       "      <td>Market St at Franklin St</td>\n",
       "      <td>47</td>\n",
       "      <td>4th St at Harrison St</td>\n",
       "      <td>Customer</td>\n",
       "      <td>0</td>\n",
       "      <td>NaN</td>\n",
       "      <td>1017.933333</td>\n",
       "    </tr>\n",
       "    <tr>\n",
       "      <th>4</th>\n",
       "      <td>2018-01-31</td>\n",
       "      <td>19:52:24.667000</td>\n",
       "      <td>2018-02-01</td>\n",
       "      <td>06:58:31.053000</td>\n",
       "      <td>19</td>\n",
       "      <td>39966</td>\n",
       "      <td>74</td>\n",
       "      <td>Laguna St at Hayes St</td>\n",
       "      <td>19</td>\n",
       "      <td>Post St at Kearny St</td>\n",
       "      <td>Subscriber</td>\n",
       "      <td>1991</td>\n",
       "      <td>Male</td>\n",
       "      <td>666.100000</td>\n",
       "    </tr>\n",
       "    <tr>\n",
       "      <th>85</th>\n",
       "      <td>2018-01-31</td>\n",
       "      <td>18:09:22.537000</td>\n",
       "      <td>2018-01-31</td>\n",
       "      <td>22:08:49.392000</td>\n",
       "      <td>18</td>\n",
       "      <td>14366</td>\n",
       "      <td>250</td>\n",
       "      <td>North Berkeley BART Station</td>\n",
       "      <td>259</td>\n",
       "      <td>Addison St at Fourth St</td>\n",
       "      <td>Subscriber</td>\n",
       "      <td>1979</td>\n",
       "      <td>Male</td>\n",
       "      <td>239.433333</td>\n",
       "    </tr>\n",
       "    <tr>\n",
       "      <th>86</th>\n",
       "      <td>2018-01-31</td>\n",
       "      <td>18:45:53.099000</td>\n",
       "      <td>2018-01-31</td>\n",
       "      <td>22:08:40.150000</td>\n",
       "      <td>18</td>\n",
       "      <td>12167</td>\n",
       "      <td>64</td>\n",
       "      <td>5th St at Brannan St</td>\n",
       "      <td>58</td>\n",
       "      <td>Market St at 10th St</td>\n",
       "      <td>Customer</td>\n",
       "      <td>1989</td>\n",
       "      <td>Male</td>\n",
       "      <td>202.783333</td>\n",
       "    </tr>\n",
       "    <tr>\n",
       "      <th>655</th>\n",
       "      <td>2018-01-31</td>\n",
       "      <td>13:18:38.739000</td>\n",
       "      <td>2018-01-31</td>\n",
       "      <td>19:07:25.778000</td>\n",
       "      <td>13</td>\n",
       "      <td>20927</td>\n",
       "      <td>15</td>\n",
       "      <td>San Francisco Ferry Building (Harry Bridges Pl...</td>\n",
       "      <td>6</td>\n",
       "      <td>The Embarcadero at Sansome St</td>\n",
       "      <td>Customer</td>\n",
       "      <td>0</td>\n",
       "      <td>NaN</td>\n",
       "      <td>348.783333</td>\n",
       "    </tr>\n",
       "    <tr>\n",
       "      <th>657</th>\n",
       "      <td>2018-01-31</td>\n",
       "      <td>13:18:09.755000</td>\n",
       "      <td>2018-01-31</td>\n",
       "      <td>19:07:14.091000</td>\n",
       "      <td>13</td>\n",
       "      <td>20944</td>\n",
       "      <td>15</td>\n",
       "      <td>San Francisco Ferry Building (Harry Bridges Pl...</td>\n",
       "      <td>6</td>\n",
       "      <td>The Embarcadero at Sansome St</td>\n",
       "      <td>Customer</td>\n",
       "      <td>0</td>\n",
       "      <td>NaN</td>\n",
       "      <td>349.066667</td>\n",
       "    </tr>\n",
       "    <tr>\n",
       "      <th>746</th>\n",
       "      <td>2018-01-31</td>\n",
       "      <td>06:01:40.813000</td>\n",
       "      <td>2018-01-31</td>\n",
       "      <td>18:52:39.958000</td>\n",
       "      <td>6</td>\n",
       "      <td>46259</td>\n",
       "      <td>41</td>\n",
       "      <td>Golden Gate Ave at Polk St</td>\n",
       "      <td>5</td>\n",
       "      <td>Powell St BART Station (Market St at 5th St)</td>\n",
       "      <td>Customer</td>\n",
       "      <td>0</td>\n",
       "      <td>NaN</td>\n",
       "      <td>770.983333</td>\n",
       "    </tr>\n",
       "    <tr>\n",
       "      <th>981</th>\n",
       "      <td>2018-01-31</td>\n",
       "      <td>13:18:31.940000</td>\n",
       "      <td>2018-01-31</td>\n",
       "      <td>18:20:57.074000</td>\n",
       "      <td>13</td>\n",
       "      <td>18145</td>\n",
       "      <td>15</td>\n",
       "      <td>San Francisco Ferry Building (Harry Bridges Pl...</td>\n",
       "      <td>6</td>\n",
       "      <td>The Embarcadero at Sansome St</td>\n",
       "      <td>Customer</td>\n",
       "      <td>0</td>\n",
       "      <td>NaN</td>\n",
       "      <td>302.416667</td>\n",
       "    </tr>\n",
       "    <tr>\n",
       "      <th>1451</th>\n",
       "      <td>2018-01-31</td>\n",
       "      <td>13:39:29.230000</td>\n",
       "      <td>2018-01-31</td>\n",
       "      <td>17:29:57.944000</td>\n",
       "      <td>13</td>\n",
       "      <td>13828</td>\n",
       "      <td>6</td>\n",
       "      <td>The Embarcadero at Sansome St</td>\n",
       "      <td>6</td>\n",
       "      <td>The Embarcadero at Sansome St</td>\n",
       "      <td>Customer</td>\n",
       "      <td>0</td>\n",
       "      <td>NaN</td>\n",
       "      <td>230.466667</td>\n",
       "    </tr>\n",
       "    <tr>\n",
       "      <th>1746</th>\n",
       "      <td>2018-01-31</td>\n",
       "      <td>10:55:41.396000</td>\n",
       "      <td>2018-01-31</td>\n",
       "      <td>16:57:13.193000</td>\n",
       "      <td>10</td>\n",
       "      <td>21691</td>\n",
       "      <td>4</td>\n",
       "      <td>Cyril Magnin St at Ellis St</td>\n",
       "      <td>4</td>\n",
       "      <td>Cyril Magnin St at Ellis St</td>\n",
       "      <td>Subscriber</td>\n",
       "      <td>1965</td>\n",
       "      <td>Male</td>\n",
       "      <td>361.516667</td>\n",
       "    </tr>\n",
       "    <tr>\n",
       "      <th>1837</th>\n",
       "      <td>2018-01-30</td>\n",
       "      <td>20:40:36.399000</td>\n",
       "      <td>2018-01-31</td>\n",
       "      <td>16:40:31.807000</td>\n",
       "      <td>20</td>\n",
       "      <td>71995</td>\n",
       "      <td>17</td>\n",
       "      <td>Embarcadero BART Station (Beale St at Market St)</td>\n",
       "      <td>30</td>\n",
       "      <td>San Francisco Caltrain (Townsend St at 4th St)</td>\n",
       "      <td>Customer</td>\n",
       "      <td>0</td>\n",
       "      <td>NaN</td>\n",
       "      <td>1199.916667</td>\n",
       "    </tr>\n",
       "    <tr>\n",
       "      <th>2029</th>\n",
       "      <td>2018-01-31</td>\n",
       "      <td>12:10:10.555000</td>\n",
       "      <td>2018-01-31</td>\n",
       "      <td>15:50:58.873000</td>\n",
       "      <td>12</td>\n",
       "      <td>13248</td>\n",
       "      <td>274</td>\n",
       "      <td>Oregon St at Adeline St</td>\n",
       "      <td>246</td>\n",
       "      <td>Berkeley Civic Center</td>\n",
       "      <td>Customer</td>\n",
       "      <td>1993</td>\n",
       "      <td>Male</td>\n",
       "      <td>220.800000</td>\n",
       "    </tr>\n",
       "    <tr>\n",
       "      <th>2036</th>\n",
       "      <td>2018-01-31</td>\n",
       "      <td>12:04:06.048000</td>\n",
       "      <td>2018-01-31</td>\n",
       "      <td>15:49:23.320000</td>\n",
       "      <td>12</td>\n",
       "      <td>13517</td>\n",
       "      <td>114</td>\n",
       "      <td>Rhode Island St at 17th St</td>\n",
       "      <td>100</td>\n",
       "      <td>Bryant St at 15th St</td>\n",
       "      <td>Customer</td>\n",
       "      <td>1990</td>\n",
       "      <td>Female</td>\n",
       "      <td>225.283333</td>\n",
       "    </tr>\n",
       "    <tr>\n",
       "      <th>2228</th>\n",
       "      <td>2018-01-30</td>\n",
       "      <td>14:45:44.480000</td>\n",
       "      <td>2018-01-31</td>\n",
       "      <td>14:31:31.053000</td>\n",
       "      <td>14</td>\n",
       "      <td>85546</td>\n",
       "      <td>6</td>\n",
       "      <td>The Embarcadero at Sansome St</td>\n",
       "      <td>24</td>\n",
       "      <td>Spear St at Folsom St</td>\n",
       "      <td>Customer</td>\n",
       "      <td>0</td>\n",
       "      <td>NaN</td>\n",
       "      <td>1425.766667</td>\n",
       "    </tr>\n",
       "    <tr>\n",
       "      <th>2266</th>\n",
       "      <td>2018-01-31</td>\n",
       "      <td>08:11:44.204000</td>\n",
       "      <td>2018-01-31</td>\n",
       "      <td>14:11:06.973000</td>\n",
       "      <td>8</td>\n",
       "      <td>21562</td>\n",
       "      <td>72</td>\n",
       "      <td>Page St at Scott St</td>\n",
       "      <td>36</td>\n",
       "      <td>Folsom St at 3rd St</td>\n",
       "      <td>Customer</td>\n",
       "      <td>1989</td>\n",
       "      <td>Male</td>\n",
       "      <td>359.366667</td>\n",
       "    </tr>\n",
       "    <tr>\n",
       "      <th>2619</th>\n",
       "      <td>2018-01-31</td>\n",
       "      <td>08:04:46.972000</td>\n",
       "      <td>2018-01-31</td>\n",
       "      <td>12:10:13.981000</td>\n",
       "      <td>8</td>\n",
       "      <td>14727</td>\n",
       "      <td>132</td>\n",
       "      <td>24th St at Chattanooga St</td>\n",
       "      <td>97</td>\n",
       "      <td>14th St at Mission St</td>\n",
       "      <td>Subscriber</td>\n",
       "      <td>1968</td>\n",
       "      <td>Female</td>\n",
       "      <td>245.450000</td>\n",
       "    </tr>\n",
       "    <tr>\n",
       "      <th>2669</th>\n",
       "      <td>2018-01-31</td>\n",
       "      <td>07:47:49.807000</td>\n",
       "      <td>2018-01-31</td>\n",
       "      <td>11:57:16.484000</td>\n",
       "      <td>7</td>\n",
       "      <td>14966</td>\n",
       "      <td>247</td>\n",
       "      <td>Fulton St at Bancroft Way</td>\n",
       "      <td>243</td>\n",
       "      <td>Bancroft Way at College Ave</td>\n",
       "      <td>Subscriber</td>\n",
       "      <td>1998</td>\n",
       "      <td>Male</td>\n",
       "      <td>249.433333</td>\n",
       "    </tr>\n",
       "    <tr>\n",
       "      <th>3036</th>\n",
       "      <td>2018-01-30</td>\n",
       "      <td>16:47:11.806000</td>\n",
       "      <td>2018-01-31</td>\n",
       "      <td>09:56:14.639000</td>\n",
       "      <td>16</td>\n",
       "      <td>61742</td>\n",
       "      <td>95</td>\n",
       "      <td>Sanchez St at 15th St</td>\n",
       "      <td>106</td>\n",
       "      <td>Sanchez St at 17th St</td>\n",
       "      <td>Customer</td>\n",
       "      <td>0</td>\n",
       "      <td>NaN</td>\n",
       "      <td>1029.033333</td>\n",
       "    </tr>\n",
       "    <tr>\n",
       "      <th>4120</th>\n",
       "      <td>2018-01-30</td>\n",
       "      <td>11:48:05.260000</td>\n",
       "      <td>2018-01-31</td>\n",
       "      <td>07:58:47.482000</td>\n",
       "      <td>11</td>\n",
       "      <td>72642</td>\n",
       "      <td>53</td>\n",
       "      <td>Grove St at Divisadero</td>\n",
       "      <td>70</td>\n",
       "      <td>Central Ave at Fell St</td>\n",
       "      <td>Customer</td>\n",
       "      <td>0</td>\n",
       "      <td>NaN</td>\n",
       "      <td>1210.700000</td>\n",
       "    </tr>\n",
       "    <tr>\n",
       "      <th>4153</th>\n",
       "      <td>2018-01-30</td>\n",
       "      <td>19:31:40.884000</td>\n",
       "      <td>2018-01-31</td>\n",
       "      <td>07:54:14.815000</td>\n",
       "      <td>19</td>\n",
       "      <td>44553</td>\n",
       "      <td>145</td>\n",
       "      <td>29th St at Church St</td>\n",
       "      <td>145</td>\n",
       "      <td>29th St at Church St</td>\n",
       "      <td>Customer</td>\n",
       "      <td>0</td>\n",
       "      <td>NaN</td>\n",
       "      <td>742.550000</td>\n",
       "    </tr>\n",
       "    <tr>\n",
       "      <th>4188</th>\n",
       "      <td>2018-01-30</td>\n",
       "      <td>17:07:56.667000</td>\n",
       "      <td>2018-01-31</td>\n",
       "      <td>07:48:42.829000</td>\n",
       "      <td>17</td>\n",
       "      <td>52846</td>\n",
       "      <td>30</td>\n",
       "      <td>San Francisco Caltrain (Townsend St at 4th St)</td>\n",
       "      <td>99</td>\n",
       "      <td>Folsom St at 15th St</td>\n",
       "      <td>Subscriber</td>\n",
       "      <td>1978</td>\n",
       "      <td>Male</td>\n",
       "      <td>880.766667</td>\n",
       "    </tr>\n",
       "    <tr>\n",
       "      <th>4202</th>\n",
       "      <td>2018-01-30</td>\n",
       "      <td>11:47:56.859000</td>\n",
       "      <td>2018-01-31</td>\n",
       "      <td>07:45:17.280000</td>\n",
       "      <td>11</td>\n",
       "      <td>71840</td>\n",
       "      <td>53</td>\n",
       "      <td>Grove St at Divisadero</td>\n",
       "      <td>70</td>\n",
       "      <td>Central Ave at Fell St</td>\n",
       "      <td>Customer</td>\n",
       "      <td>0</td>\n",
       "      <td>NaN</td>\n",
       "      <td>1197.333333</td>\n",
       "    </tr>\n",
       "    <tr>\n",
       "      <th>4467</th>\n",
       "      <td>2018-01-30</td>\n",
       "      <td>17:47:08.863000</td>\n",
       "      <td>2018-01-31</td>\n",
       "      <td>01:39:08.261000</td>\n",
       "      <td>17</td>\n",
       "      <td>28319</td>\n",
       "      <td>130</td>\n",
       "      <td>22nd St Caltrain Station</td>\n",
       "      <td>144</td>\n",
       "      <td>Precita Park</td>\n",
       "      <td>Customer</td>\n",
       "      <td>0</td>\n",
       "      <td>NaN</td>\n",
       "      <td>471.983333</td>\n",
       "    </tr>\n",
       "    <tr>\n",
       "      <th>4632</th>\n",
       "      <td>2018-01-30</td>\n",
       "      <td>17:42:12.166000</td>\n",
       "      <td>2018-01-30</td>\n",
       "      <td>21:31:30.897000</td>\n",
       "      <td>17</td>\n",
       "      <td>13758</td>\n",
       "      <td>180</td>\n",
       "      <td>Telegraph Ave at 23rd St</td>\n",
       "      <td>197</td>\n",
       "      <td>El Embarcadero at Grand Ave</td>\n",
       "      <td>Subscriber</td>\n",
       "      <td>1966</td>\n",
       "      <td>Female</td>\n",
       "      <td>229.300000</td>\n",
       "    </tr>\n",
       "    <tr>\n",
       "      <th>5277</th>\n",
       "      <td>2018-01-30</td>\n",
       "      <td>07:45:59.881000</td>\n",
       "      <td>2018-01-30</td>\n",
       "      <td>18:49:18.409000</td>\n",
       "      <td>7</td>\n",
       "      <td>39798</td>\n",
       "      <td>189</td>\n",
       "      <td>Genoa St at 55th St</td>\n",
       "      <td>190</td>\n",
       "      <td>West St at 40th St</td>\n",
       "      <td>Customer</td>\n",
       "      <td>0</td>\n",
       "      <td>NaN</td>\n",
       "      <td>663.300000</td>\n",
       "    </tr>\n",
       "    <tr>\n",
       "      <th>5535</th>\n",
       "      <td>2018-01-30</td>\n",
       "      <td>13:18:37.604000</td>\n",
       "      <td>2018-01-30</td>\n",
       "      <td>18:17:02.888000</td>\n",
       "      <td>13</td>\n",
       "      <td>17905</td>\n",
       "      <td>41</td>\n",
       "      <td>Golden Gate Ave at Polk St</td>\n",
       "      <td>41</td>\n",
       "      <td>Golden Gate Ave at Polk St</td>\n",
       "      <td>Customer</td>\n",
       "      <td>0</td>\n",
       "      <td>NaN</td>\n",
       "      <td>298.416667</td>\n",
       "    </tr>\n",
       "    <tr>\n",
       "      <th>5539</th>\n",
       "      <td>2018-01-30</td>\n",
       "      <td>13:18:50.445000</td>\n",
       "      <td>2018-01-30</td>\n",
       "      <td>18:16:49.982000</td>\n",
       "      <td>13</td>\n",
       "      <td>17879</td>\n",
       "      <td>41</td>\n",
       "      <td>Golden Gate Ave at Polk St</td>\n",
       "      <td>41</td>\n",
       "      <td>Golden Gate Ave at Polk St</td>\n",
       "      <td>Customer</td>\n",
       "      <td>0</td>\n",
       "      <td>NaN</td>\n",
       "      <td>297.983333</td>\n",
       "    </tr>\n",
       "    <tr>\n",
       "      <th>...</th>\n",
       "      <td>...</td>\n",
       "      <td>...</td>\n",
       "      <td>...</td>\n",
       "      <td>...</td>\n",
       "      <td>...</td>\n",
       "      <td>...</td>\n",
       "      <td>...</td>\n",
       "      <td>...</td>\n",
       "      <td>...</td>\n",
       "      <td>...</td>\n",
       "      <td>...</td>\n",
       "      <td>...</td>\n",
       "      <td>...</td>\n",
       "      <td>...</td>\n",
       "    </tr>\n",
       "    <tr>\n",
       "      <th>1845455</th>\n",
       "      <td>2018-12-05</td>\n",
       "      <td>07:29:25.089000</td>\n",
       "      <td>2018-12-05</td>\n",
       "      <td>11:02:52.550000</td>\n",
       "      <td>7</td>\n",
       "      <td>12807</td>\n",
       "      <td>368</td>\n",
       "      <td>Myrtle St at Polk St</td>\n",
       "      <td>368</td>\n",
       "      <td>Myrtle St at Polk St</td>\n",
       "      <td>Customer</td>\n",
       "      <td>0</td>\n",
       "      <td>NaN</td>\n",
       "      <td>213.450000</td>\n",
       "    </tr>\n",
       "    <tr>\n",
       "      <th>1845457</th>\n",
       "      <td>2018-12-05</td>\n",
       "      <td>07:30:49.411000</td>\n",
       "      <td>2018-12-05</td>\n",
       "      <td>11:02:19.899000</td>\n",
       "      <td>7</td>\n",
       "      <td>12690</td>\n",
       "      <td>368</td>\n",
       "      <td>Myrtle St at Polk St</td>\n",
       "      <td>368</td>\n",
       "      <td>Myrtle St at Polk St</td>\n",
       "      <td>Customer</td>\n",
       "      <td>0</td>\n",
       "      <td>NaN</td>\n",
       "      <td>211.500000</td>\n",
       "    </tr>\n",
       "    <tr>\n",
       "      <th>1849385</th>\n",
       "      <td>2018-12-04</td>\n",
       "      <td>07:51:35.352000</td>\n",
       "      <td>2018-12-04</td>\n",
       "      <td>14:55:18.048000</td>\n",
       "      <td>7</td>\n",
       "      <td>25422</td>\n",
       "      <td>109</td>\n",
       "      <td>17th St at Valencia St</td>\n",
       "      <td>62</td>\n",
       "      <td>Victoria Manalo Draves Park</td>\n",
       "      <td>Customer</td>\n",
       "      <td>1979</td>\n",
       "      <td>Female</td>\n",
       "      <td>423.700000</td>\n",
       "    </tr>\n",
       "    <tr>\n",
       "      <th>1849491</th>\n",
       "      <td>2018-12-04</td>\n",
       "      <td>09:39:45.177000</td>\n",
       "      <td>2018-12-04</td>\n",
       "      <td>14:19:18.552000</td>\n",
       "      <td>9</td>\n",
       "      <td>16773</td>\n",
       "      <td>15</td>\n",
       "      <td>San Francisco Ferry Building (Harry Bridges Pl...</td>\n",
       "      <td>15</td>\n",
       "      <td>San Francisco Ferry Building (Harry Bridges Pl...</td>\n",
       "      <td>Customer</td>\n",
       "      <td>0</td>\n",
       "      <td>NaN</td>\n",
       "      <td>279.550000</td>\n",
       "    </tr>\n",
       "    <tr>\n",
       "      <th>1849711</th>\n",
       "      <td>2018-12-04</td>\n",
       "      <td>08:52:01.594000</td>\n",
       "      <td>2018-12-04</td>\n",
       "      <td>13:10:12.165000</td>\n",
       "      <td>8</td>\n",
       "      <td>15490</td>\n",
       "      <td>116</td>\n",
       "      <td>Mississippi St at 17th St</td>\n",
       "      <td>130</td>\n",
       "      <td>22nd St Caltrain Station</td>\n",
       "      <td>Subscriber</td>\n",
       "      <td>1991</td>\n",
       "      <td>Male</td>\n",
       "      <td>258.166667</td>\n",
       "    </tr>\n",
       "    <tr>\n",
       "      <th>1851920</th>\n",
       "      <td>2018-12-03</td>\n",
       "      <td>17:48:36.199000</td>\n",
       "      <td>2018-12-04</td>\n",
       "      <td>08:13:16.863000</td>\n",
       "      <td>17</td>\n",
       "      <td>51880</td>\n",
       "      <td>8</td>\n",
       "      <td>The Embarcadero at Vallejo St</td>\n",
       "      <td>22</td>\n",
       "      <td>Howard St at Beale St</td>\n",
       "      <td>Subscriber</td>\n",
       "      <td>1968</td>\n",
       "      <td>Male</td>\n",
       "      <td>864.666667</td>\n",
       "    </tr>\n",
       "    <tr>\n",
       "      <th>1852651</th>\n",
       "      <td>2018-12-03</td>\n",
       "      <td>20:31:26.043000</td>\n",
       "      <td>2018-12-04</td>\n",
       "      <td>00:43:12.419000</td>\n",
       "      <td>20</td>\n",
       "      <td>15106</td>\n",
       "      <td>166</td>\n",
       "      <td>College Ave at Alcatraz Ave</td>\n",
       "      <td>243</td>\n",
       "      <td>Bancroft Way at College Ave</td>\n",
       "      <td>Customer</td>\n",
       "      <td>0</td>\n",
       "      <td>NaN</td>\n",
       "      <td>251.766667</td>\n",
       "    </tr>\n",
       "    <tr>\n",
       "      <th>1854017</th>\n",
       "      <td>2018-12-03</td>\n",
       "      <td>09:16:17.412000</td>\n",
       "      <td>2018-12-03</td>\n",
       "      <td>18:06:16.141000</td>\n",
       "      <td>9</td>\n",
       "      <td>31798</td>\n",
       "      <td>19</td>\n",
       "      <td>Post St at Kearny St</td>\n",
       "      <td>67</td>\n",
       "      <td>San Francisco Caltrain Station 2  (Townsend St...</td>\n",
       "      <td>Subscriber</td>\n",
       "      <td>1990</td>\n",
       "      <td>Male</td>\n",
       "      <td>529.966667</td>\n",
       "    </tr>\n",
       "    <tr>\n",
       "      <th>1854078</th>\n",
       "      <td>2018-12-03</td>\n",
       "      <td>14:35:33.159000</td>\n",
       "      <td>2018-12-03</td>\n",
       "      <td>18:00:04.660000</td>\n",
       "      <td>14</td>\n",
       "      <td>12271</td>\n",
       "      <td>339</td>\n",
       "      <td>Jackson St at 11th St</td>\n",
       "      <td>194</td>\n",
       "      <td>Lakeshore Ave at Trestle Glen Rd</td>\n",
       "      <td>Subscriber</td>\n",
       "      <td>1952</td>\n",
       "      <td>Male</td>\n",
       "      <td>204.516667</td>\n",
       "    </tr>\n",
       "    <tr>\n",
       "      <th>1854226</th>\n",
       "      <td>2018-12-03</td>\n",
       "      <td>09:36:31.226000</td>\n",
       "      <td>2018-12-03</td>\n",
       "      <td>17:49:34.716000</td>\n",
       "      <td>9</td>\n",
       "      <td>29583</td>\n",
       "      <td>67</td>\n",
       "      <td>San Francisco Caltrain Station 2  (Townsend St...</td>\n",
       "      <td>30</td>\n",
       "      <td>San Francisco Caltrain (Townsend St at 4th St)</td>\n",
       "      <td>Subscriber</td>\n",
       "      <td>1965</td>\n",
       "      <td>Female</td>\n",
       "      <td>493.050000</td>\n",
       "    </tr>\n",
       "    <tr>\n",
       "      <th>1855287</th>\n",
       "      <td>2018-12-03</td>\n",
       "      <td>06:44:20.943000</td>\n",
       "      <td>2018-12-03</td>\n",
       "      <td>15:47:49.950000</td>\n",
       "      <td>6</td>\n",
       "      <td>32609</td>\n",
       "      <td>296</td>\n",
       "      <td>5th St at Virginia St</td>\n",
       "      <td>312</td>\n",
       "      <td>San Jose Diridon Station</td>\n",
       "      <td>Customer</td>\n",
       "      <td>1985</td>\n",
       "      <td>Male</td>\n",
       "      <td>543.483333</td>\n",
       "    </tr>\n",
       "    <tr>\n",
       "      <th>1855989</th>\n",
       "      <td>2018-12-02</td>\n",
       "      <td>15:55:02.642000</td>\n",
       "      <td>2018-12-03</td>\n",
       "      <td>12:03:44.691000</td>\n",
       "      <td>15</td>\n",
       "      <td>72522</td>\n",
       "      <td>310</td>\n",
       "      <td>San Fernando St at 4th St</td>\n",
       "      <td>289</td>\n",
       "      <td>5th St at Taylor St</td>\n",
       "      <td>Customer</td>\n",
       "      <td>0</td>\n",
       "      <td>NaN</td>\n",
       "      <td>1208.700000</td>\n",
       "    </tr>\n",
       "    <tr>\n",
       "      <th>1856356</th>\n",
       "      <td>2018-12-02</td>\n",
       "      <td>20:43:52.085000</td>\n",
       "      <td>2018-12-03</td>\n",
       "      <td>10:10:31.917000</td>\n",
       "      <td>20</td>\n",
       "      <td>48399</td>\n",
       "      <td>96</td>\n",
       "      <td>Dolores St at 15th St</td>\n",
       "      <td>44</td>\n",
       "      <td>Civic Center/UN Plaza BART Station (Market St ...</td>\n",
       "      <td>Customer</td>\n",
       "      <td>1994</td>\n",
       "      <td>Male</td>\n",
       "      <td>806.650000</td>\n",
       "    </tr>\n",
       "    <tr>\n",
       "      <th>1857390</th>\n",
       "      <td>2018-12-02</td>\n",
       "      <td>17:14:49.460000</td>\n",
       "      <td>2018-12-03</td>\n",
       "      <td>08:45:55.794000</td>\n",
       "      <td>17</td>\n",
       "      <td>55866</td>\n",
       "      <td>243</td>\n",
       "      <td>Bancroft Way at College Ave</td>\n",
       "      <td>274</td>\n",
       "      <td>Oregon St at Adeline St</td>\n",
       "      <td>Subscriber</td>\n",
       "      <td>1962</td>\n",
       "      <td>Female</td>\n",
       "      <td>931.100000</td>\n",
       "    </tr>\n",
       "    <tr>\n",
       "      <th>1857957</th>\n",
       "      <td>2018-12-02</td>\n",
       "      <td>16:31:43.563000</td>\n",
       "      <td>2018-12-03</td>\n",
       "      <td>08:03:49.067000</td>\n",
       "      <td>16</td>\n",
       "      <td>55925</td>\n",
       "      <td>137</td>\n",
       "      <td>Jersey St at Castro St</td>\n",
       "      <td>121</td>\n",
       "      <td>Mission Playground</td>\n",
       "      <td>Customer</td>\n",
       "      <td>1987</td>\n",
       "      <td>Male</td>\n",
       "      <td>932.083333</td>\n",
       "    </tr>\n",
       "    <tr>\n",
       "      <th>1858601</th>\n",
       "      <td>2018-12-02</td>\n",
       "      <td>19:21:51.929000</td>\n",
       "      <td>2018-12-02</td>\n",
       "      <td>23:30:10.086000</td>\n",
       "      <td>19</td>\n",
       "      <td>14898</td>\n",
       "      <td>15</td>\n",
       "      <td>San Francisco Ferry Building (Harry Bridges Pl...</td>\n",
       "      <td>17</td>\n",
       "      <td>Embarcadero BART Station (Beale St at Market St)</td>\n",
       "      <td>Subscriber</td>\n",
       "      <td>1991</td>\n",
       "      <td>Male</td>\n",
       "      <td>248.300000</td>\n",
       "    </tr>\n",
       "    <tr>\n",
       "      <th>1858744</th>\n",
       "      <td>2018-12-02</td>\n",
       "      <td>13:35:27.097000</td>\n",
       "      <td>2018-12-02</td>\n",
       "      <td>21:11:12.704000</td>\n",
       "      <td>13</td>\n",
       "      <td>27345</td>\n",
       "      <td>4</td>\n",
       "      <td>Cyril Magnin St at Ellis St</td>\n",
       "      <td>371</td>\n",
       "      <td>Lombard St at Columbus Ave</td>\n",
       "      <td>Customer</td>\n",
       "      <td>1997</td>\n",
       "      <td>Female</td>\n",
       "      <td>455.750000</td>\n",
       "    </tr>\n",
       "    <tr>\n",
       "      <th>1858883</th>\n",
       "      <td>2018-12-02</td>\n",
       "      <td>14:10:35.885000</td>\n",
       "      <td>2018-12-02</td>\n",
       "      <td>19:37:41.851000</td>\n",
       "      <td>14</td>\n",
       "      <td>19625</td>\n",
       "      <td>5</td>\n",
       "      <td>Powell St BART Station (Market St at 5th St)</td>\n",
       "      <td>41</td>\n",
       "      <td>Golden Gate Ave at Polk St</td>\n",
       "      <td>Subscriber</td>\n",
       "      <td>1995</td>\n",
       "      <td>Male</td>\n",
       "      <td>327.083333</td>\n",
       "    </tr>\n",
       "    <tr>\n",
       "      <th>1858884</th>\n",
       "      <td>2018-12-02</td>\n",
       "      <td>13:46:41.177000</td>\n",
       "      <td>2018-12-02</td>\n",
       "      <td>19:37:35.716000</td>\n",
       "      <td>13</td>\n",
       "      <td>21054</td>\n",
       "      <td>41</td>\n",
       "      <td>Golden Gate Ave at Polk St</td>\n",
       "      <td>41</td>\n",
       "      <td>Golden Gate Ave at Polk St</td>\n",
       "      <td>Subscriber</td>\n",
       "      <td>1989</td>\n",
       "      <td>Male</td>\n",
       "      <td>350.900000</td>\n",
       "    </tr>\n",
       "    <tr>\n",
       "      <th>1859098</th>\n",
       "      <td>2018-12-02</td>\n",
       "      <td>14:11:46.527000</td>\n",
       "      <td>2018-12-02</td>\n",
       "      <td>18:07:51.881000</td>\n",
       "      <td>14</td>\n",
       "      <td>14165</td>\n",
       "      <td>5</td>\n",
       "      <td>Powell St BART Station (Market St at 5th St)</td>\n",
       "      <td>5</td>\n",
       "      <td>Powell St BART Station (Market St at 5th St)</td>\n",
       "      <td>Subscriber</td>\n",
       "      <td>1997</td>\n",
       "      <td>Female</td>\n",
       "      <td>236.083333</td>\n",
       "    </tr>\n",
       "    <tr>\n",
       "      <th>1859393</th>\n",
       "      <td>2018-12-02</td>\n",
       "      <td>11:31:59.453000</td>\n",
       "      <td>2018-12-02</td>\n",
       "      <td>16:33:38.541000</td>\n",
       "      <td>11</td>\n",
       "      <td>18099</td>\n",
       "      <td>52</td>\n",
       "      <td>McAllister St at Baker St</td>\n",
       "      <td>371</td>\n",
       "      <td>Lombard St at Columbus Ave</td>\n",
       "      <td>Customer</td>\n",
       "      <td>1985</td>\n",
       "      <td>Male</td>\n",
       "      <td>301.650000</td>\n",
       "    </tr>\n",
       "    <tr>\n",
       "      <th>1859395</th>\n",
       "      <td>2018-12-02</td>\n",
       "      <td>11:31:43.824000</td>\n",
       "      <td>2018-12-02</td>\n",
       "      <td>16:33:24.772000</td>\n",
       "      <td>11</td>\n",
       "      <td>18100</td>\n",
       "      <td>52</td>\n",
       "      <td>McAllister St at Baker St</td>\n",
       "      <td>371</td>\n",
       "      <td>Lombard St at Columbus Ave</td>\n",
       "      <td>Customer</td>\n",
       "      <td>1985</td>\n",
       "      <td>Male</td>\n",
       "      <td>301.666667</td>\n",
       "    </tr>\n",
       "    <tr>\n",
       "      <th>1859396</th>\n",
       "      <td>2018-12-02</td>\n",
       "      <td>11:32:25.741000</td>\n",
       "      <td>2018-12-02</td>\n",
       "      <td>16:33:20.914000</td>\n",
       "      <td>11</td>\n",
       "      <td>18055</td>\n",
       "      <td>52</td>\n",
       "      <td>McAllister St at Baker St</td>\n",
       "      <td>371</td>\n",
       "      <td>Lombard St at Columbus Ave</td>\n",
       "      <td>Customer</td>\n",
       "      <td>1985</td>\n",
       "      <td>Male</td>\n",
       "      <td>300.916667</td>\n",
       "    </tr>\n",
       "    <tr>\n",
       "      <th>1859696</th>\n",
       "      <td>2018-12-02</td>\n",
       "      <td>09:16:57.566000</td>\n",
       "      <td>2018-12-02</td>\n",
       "      <td>15:18:34.371000</td>\n",
       "      <td>9</td>\n",
       "      <td>21696</td>\n",
       "      <td>377</td>\n",
       "      <td>Fell St at Stanyan St</td>\n",
       "      <td>377</td>\n",
       "      <td>Fell St at Stanyan St</td>\n",
       "      <td>Customer</td>\n",
       "      <td>0</td>\n",
       "      <td>NaN</td>\n",
       "      <td>361.600000</td>\n",
       "    </tr>\n",
       "    <tr>\n",
       "      <th>1859697</th>\n",
       "      <td>2018-12-02</td>\n",
       "      <td>09:31:23.601000</td>\n",
       "      <td>2018-12-02</td>\n",
       "      <td>15:17:44.287000</td>\n",
       "      <td>9</td>\n",
       "      <td>20780</td>\n",
       "      <td>377</td>\n",
       "      <td>Fell St at Stanyan St</td>\n",
       "      <td>377</td>\n",
       "      <td>Fell St at Stanyan St</td>\n",
       "      <td>Customer</td>\n",
       "      <td>0</td>\n",
       "      <td>NaN</td>\n",
       "      <td>346.333333</td>\n",
       "    </tr>\n",
       "    <tr>\n",
       "      <th>1861073</th>\n",
       "      <td>2018-12-01</td>\n",
       "      <td>21:42:02.811000</td>\n",
       "      <td>2018-12-02</td>\n",
       "      <td>04:19:07.122000</td>\n",
       "      <td>21</td>\n",
       "      <td>23824</td>\n",
       "      <td>323</td>\n",
       "      <td>Broadway at Kearny</td>\n",
       "      <td>44</td>\n",
       "      <td>Civic Center/UN Plaza BART Station (Market St ...</td>\n",
       "      <td>Subscriber</td>\n",
       "      <td>1982</td>\n",
       "      <td>Male</td>\n",
       "      <td>397.066667</td>\n",
       "    </tr>\n",
       "    <tr>\n",
       "      <th>1861122</th>\n",
       "      <td>2018-12-01</td>\n",
       "      <td>22:17:38.472000</td>\n",
       "      <td>2018-12-02</td>\n",
       "      <td>02:12:21.431000</td>\n",
       "      <td>22</td>\n",
       "      <td>14082</td>\n",
       "      <td>193</td>\n",
       "      <td>Grand Ave at Santa Clara Ave</td>\n",
       "      <td>193</td>\n",
       "      <td>Grand Ave at Santa Clara Ave</td>\n",
       "      <td>Customer</td>\n",
       "      <td>1991</td>\n",
       "      <td>Male</td>\n",
       "      <td>234.700000</td>\n",
       "    </tr>\n",
       "    <tr>\n",
       "      <th>1861731</th>\n",
       "      <td>2018-12-01</td>\n",
       "      <td>14:54:39.407000</td>\n",
       "      <td>2018-12-01</td>\n",
       "      <td>18:48:36.005000</td>\n",
       "      <td>14</td>\n",
       "      <td>14036</td>\n",
       "      <td>15</td>\n",
       "      <td>San Francisco Ferry Building (Harry Bridges Pl...</td>\n",
       "      <td>15</td>\n",
       "      <td>San Francisco Ferry Building (Harry Bridges Pl...</td>\n",
       "      <td>Customer</td>\n",
       "      <td>0</td>\n",
       "      <td>NaN</td>\n",
       "      <td>233.933333</td>\n",
       "    </tr>\n",
       "    <tr>\n",
       "      <th>1861822</th>\n",
       "      <td>2018-12-01</td>\n",
       "      <td>14:40:22.159000</td>\n",
       "      <td>2018-12-01</td>\n",
       "      <td>18:16:52.421000</td>\n",
       "      <td>14</td>\n",
       "      <td>12990</td>\n",
       "      <td>284</td>\n",
       "      <td>Yerba Buena Center for the Arts (Howard St at ...</td>\n",
       "      <td>324</td>\n",
       "      <td>Union Square (Powell St at Post St)</td>\n",
       "      <td>Subscriber</td>\n",
       "      <td>1993</td>\n",
       "      <td>Male</td>\n",
       "      <td>216.500000</td>\n",
       "    </tr>\n",
       "    <tr>\n",
       "      <th>1862616</th>\n",
       "      <td>2018-12-01</td>\n",
       "      <td>08:19:06.257000</td>\n",
       "      <td>2018-12-01</td>\n",
       "      <td>14:41:44.031000</td>\n",
       "      <td>8</td>\n",
       "      <td>22957</td>\n",
       "      <td>370</td>\n",
       "      <td>Jones St at Post St</td>\n",
       "      <td>5</td>\n",
       "      <td>Powell St BART Station (Market St at 5th St)</td>\n",
       "      <td>Customer</td>\n",
       "      <td>1988</td>\n",
       "      <td>Female</td>\n",
       "      <td>382.616667</td>\n",
       "    </tr>\n",
       "  </tbody>\n",
       "</table>\n",
       "<p>7040 rows × 14 columns</p>\n",
       "</div>"
      ],
      "text/plain": [
       "         start_date       start_time    end_date         end_time  \\\n",
       "0        2018-01-31  22:52:35.239000  2018-02-01  19:47:19.824000   \n",
       "1        2018-01-31  16:13:34.351000  2018-02-01  15:57:17.310000   \n",
       "2        2018-01-31  14:23:55.889000  2018-02-01  10:16:52.116000   \n",
       "3        2018-01-31  14:53:23.562000  2018-02-01  07:51:20.500000   \n",
       "4        2018-01-31  19:52:24.667000  2018-02-01  06:58:31.053000   \n",
       "85       2018-01-31  18:09:22.537000  2018-01-31  22:08:49.392000   \n",
       "86       2018-01-31  18:45:53.099000  2018-01-31  22:08:40.150000   \n",
       "655      2018-01-31  13:18:38.739000  2018-01-31  19:07:25.778000   \n",
       "657      2018-01-31  13:18:09.755000  2018-01-31  19:07:14.091000   \n",
       "746      2018-01-31  06:01:40.813000  2018-01-31  18:52:39.958000   \n",
       "981      2018-01-31  13:18:31.940000  2018-01-31  18:20:57.074000   \n",
       "1451     2018-01-31  13:39:29.230000  2018-01-31  17:29:57.944000   \n",
       "1746     2018-01-31  10:55:41.396000  2018-01-31  16:57:13.193000   \n",
       "1837     2018-01-30  20:40:36.399000  2018-01-31  16:40:31.807000   \n",
       "2029     2018-01-31  12:10:10.555000  2018-01-31  15:50:58.873000   \n",
       "2036     2018-01-31  12:04:06.048000  2018-01-31  15:49:23.320000   \n",
       "2228     2018-01-30  14:45:44.480000  2018-01-31  14:31:31.053000   \n",
       "2266     2018-01-31  08:11:44.204000  2018-01-31  14:11:06.973000   \n",
       "2619     2018-01-31  08:04:46.972000  2018-01-31  12:10:13.981000   \n",
       "2669     2018-01-31  07:47:49.807000  2018-01-31  11:57:16.484000   \n",
       "3036     2018-01-30  16:47:11.806000  2018-01-31  09:56:14.639000   \n",
       "4120     2018-01-30  11:48:05.260000  2018-01-31  07:58:47.482000   \n",
       "4153     2018-01-30  19:31:40.884000  2018-01-31  07:54:14.815000   \n",
       "4188     2018-01-30  17:07:56.667000  2018-01-31  07:48:42.829000   \n",
       "4202     2018-01-30  11:47:56.859000  2018-01-31  07:45:17.280000   \n",
       "4467     2018-01-30  17:47:08.863000  2018-01-31  01:39:08.261000   \n",
       "4632     2018-01-30  17:42:12.166000  2018-01-30  21:31:30.897000   \n",
       "5277     2018-01-30  07:45:59.881000  2018-01-30  18:49:18.409000   \n",
       "5535     2018-01-30  13:18:37.604000  2018-01-30  18:17:02.888000   \n",
       "5539     2018-01-30  13:18:50.445000  2018-01-30  18:16:49.982000   \n",
       "...             ...              ...         ...              ...   \n",
       "1845455  2018-12-05  07:29:25.089000  2018-12-05  11:02:52.550000   \n",
       "1845457  2018-12-05  07:30:49.411000  2018-12-05  11:02:19.899000   \n",
       "1849385  2018-12-04  07:51:35.352000  2018-12-04  14:55:18.048000   \n",
       "1849491  2018-12-04  09:39:45.177000  2018-12-04  14:19:18.552000   \n",
       "1849711  2018-12-04  08:52:01.594000  2018-12-04  13:10:12.165000   \n",
       "1851920  2018-12-03  17:48:36.199000  2018-12-04  08:13:16.863000   \n",
       "1852651  2018-12-03  20:31:26.043000  2018-12-04  00:43:12.419000   \n",
       "1854017  2018-12-03  09:16:17.412000  2018-12-03  18:06:16.141000   \n",
       "1854078  2018-12-03  14:35:33.159000  2018-12-03  18:00:04.660000   \n",
       "1854226  2018-12-03  09:36:31.226000  2018-12-03  17:49:34.716000   \n",
       "1855287  2018-12-03  06:44:20.943000  2018-12-03  15:47:49.950000   \n",
       "1855989  2018-12-02  15:55:02.642000  2018-12-03  12:03:44.691000   \n",
       "1856356  2018-12-02  20:43:52.085000  2018-12-03  10:10:31.917000   \n",
       "1857390  2018-12-02  17:14:49.460000  2018-12-03  08:45:55.794000   \n",
       "1857957  2018-12-02  16:31:43.563000  2018-12-03  08:03:49.067000   \n",
       "1858601  2018-12-02  19:21:51.929000  2018-12-02  23:30:10.086000   \n",
       "1858744  2018-12-02  13:35:27.097000  2018-12-02  21:11:12.704000   \n",
       "1858883  2018-12-02  14:10:35.885000  2018-12-02  19:37:41.851000   \n",
       "1858884  2018-12-02  13:46:41.177000  2018-12-02  19:37:35.716000   \n",
       "1859098  2018-12-02  14:11:46.527000  2018-12-02  18:07:51.881000   \n",
       "1859393  2018-12-02  11:31:59.453000  2018-12-02  16:33:38.541000   \n",
       "1859395  2018-12-02  11:31:43.824000  2018-12-02  16:33:24.772000   \n",
       "1859396  2018-12-02  11:32:25.741000  2018-12-02  16:33:20.914000   \n",
       "1859696  2018-12-02  09:16:57.566000  2018-12-02  15:18:34.371000   \n",
       "1859697  2018-12-02  09:31:23.601000  2018-12-02  15:17:44.287000   \n",
       "1861073  2018-12-01  21:42:02.811000  2018-12-02  04:19:07.122000   \n",
       "1861122  2018-12-01  22:17:38.472000  2018-12-02  02:12:21.431000   \n",
       "1861731  2018-12-01  14:54:39.407000  2018-12-01  18:48:36.005000   \n",
       "1861822  2018-12-01  14:40:22.159000  2018-12-01  18:16:52.421000   \n",
       "1862616  2018-12-01  08:19:06.257000  2018-12-01  14:41:44.031000   \n",
       "\n",
       "         hour_of_day  duration_sec  start_station_id  \\\n",
       "0                 22         75284               120   \n",
       "1                 16         85422                15   \n",
       "2                 14         71576               304   \n",
       "3                 14         61076                75   \n",
       "4                 19         39966                74   \n",
       "85                18         14366               250   \n",
       "86                18         12167                64   \n",
       "655               13         20927                15   \n",
       "657               13         20944                15   \n",
       "746                6         46259                41   \n",
       "981               13         18145                15   \n",
       "1451              13         13828                 6   \n",
       "1746              10         21691                 4   \n",
       "1837              20         71995                17   \n",
       "2029              12         13248               274   \n",
       "2036              12         13517               114   \n",
       "2228              14         85546                 6   \n",
       "2266               8         21562                72   \n",
       "2619               8         14727               132   \n",
       "2669               7         14966               247   \n",
       "3036              16         61742                95   \n",
       "4120              11         72642                53   \n",
       "4153              19         44553               145   \n",
       "4188              17         52846                30   \n",
       "4202              11         71840                53   \n",
       "4467              17         28319               130   \n",
       "4632              17         13758               180   \n",
       "5277               7         39798               189   \n",
       "5535              13         17905                41   \n",
       "5539              13         17879                41   \n",
       "...              ...           ...               ...   \n",
       "1845455            7         12807               368   \n",
       "1845457            7         12690               368   \n",
       "1849385            7         25422               109   \n",
       "1849491            9         16773                15   \n",
       "1849711            8         15490               116   \n",
       "1851920           17         51880                 8   \n",
       "1852651           20         15106               166   \n",
       "1854017            9         31798                19   \n",
       "1854078           14         12271               339   \n",
       "1854226            9         29583                67   \n",
       "1855287            6         32609               296   \n",
       "1855989           15         72522               310   \n",
       "1856356           20         48399                96   \n",
       "1857390           17         55866               243   \n",
       "1857957           16         55925               137   \n",
       "1858601           19         14898                15   \n",
       "1858744           13         27345                 4   \n",
       "1858883           14         19625                 5   \n",
       "1858884           13         21054                41   \n",
       "1859098           14         14165                 5   \n",
       "1859393           11         18099                52   \n",
       "1859395           11         18100                52   \n",
       "1859396           11         18055                52   \n",
       "1859696            9         21696               377   \n",
       "1859697            9         20780               377   \n",
       "1861073           21         23824               323   \n",
       "1861122           22         14082               193   \n",
       "1861731           14         14036                15   \n",
       "1861822           14         12990               284   \n",
       "1862616            8         22957               370   \n",
       "\n",
       "                                        start_station_name  end_station_id  \\\n",
       "0                                     Mission Dolores Park             285   \n",
       "1        San Francisco Ferry Building (Harry Bridges Pl...              15   \n",
       "2                                     Jackson St at 5th St             296   \n",
       "3                                 Market St at Franklin St              47   \n",
       "4                                    Laguna St at Hayes St              19   \n",
       "85                             North Berkeley BART Station             259   \n",
       "86                                    5th St at Brannan St              58   \n",
       "655      San Francisco Ferry Building (Harry Bridges Pl...               6   \n",
       "657      San Francisco Ferry Building (Harry Bridges Pl...               6   \n",
       "746                             Golden Gate Ave at Polk St               5   \n",
       "981      San Francisco Ferry Building (Harry Bridges Pl...               6   \n",
       "1451                         The Embarcadero at Sansome St               6   \n",
       "1746                           Cyril Magnin St at Ellis St               4   \n",
       "1837      Embarcadero BART Station (Beale St at Market St)              30   \n",
       "2029                               Oregon St at Adeline St             246   \n",
       "2036                            Rhode Island St at 17th St             100   \n",
       "2228                         The Embarcadero at Sansome St              24   \n",
       "2266                                   Page St at Scott St              36   \n",
       "2619                             24th St at Chattanooga St              97   \n",
       "2669                             Fulton St at Bancroft Way             243   \n",
       "3036                                 Sanchez St at 15th St             106   \n",
       "4120                                Grove St at Divisadero              70   \n",
       "4153                                  29th St at Church St             145   \n",
       "4188        San Francisco Caltrain (Townsend St at 4th St)              99   \n",
       "4202                                Grove St at Divisadero              70   \n",
       "4467                              22nd St Caltrain Station             144   \n",
       "4632                              Telegraph Ave at 23rd St             197   \n",
       "5277                                   Genoa St at 55th St             190   \n",
       "5535                            Golden Gate Ave at Polk St              41   \n",
       "5539                            Golden Gate Ave at Polk St              41   \n",
       "...                                                    ...             ...   \n",
       "1845455                               Myrtle St at Polk St             368   \n",
       "1845457                               Myrtle St at Polk St             368   \n",
       "1849385                             17th St at Valencia St              62   \n",
       "1849491  San Francisco Ferry Building (Harry Bridges Pl...              15   \n",
       "1849711                          Mississippi St at 17th St             130   \n",
       "1851920                      The Embarcadero at Vallejo St              22   \n",
       "1852651                        College Ave at Alcatraz Ave             243   \n",
       "1854017                               Post St at Kearny St              67   \n",
       "1854078                              Jackson St at 11th St             194   \n",
       "1854226  San Francisco Caltrain Station 2  (Townsend St...              30   \n",
       "1855287                              5th St at Virginia St             312   \n",
       "1855989                          San Fernando St at 4th St             289   \n",
       "1856356                              Dolores St at 15th St              44   \n",
       "1857390                        Bancroft Way at College Ave             274   \n",
       "1857957                             Jersey St at Castro St             121   \n",
       "1858601  San Francisco Ferry Building (Harry Bridges Pl...              17   \n",
       "1858744                        Cyril Magnin St at Ellis St             371   \n",
       "1858883       Powell St BART Station (Market St at 5th St)              41   \n",
       "1858884                         Golden Gate Ave at Polk St              41   \n",
       "1859098       Powell St BART Station (Market St at 5th St)               5   \n",
       "1859393                          McAllister St at Baker St             371   \n",
       "1859395                          McAllister St at Baker St             371   \n",
       "1859396                          McAllister St at Baker St             371   \n",
       "1859696                              Fell St at Stanyan St             377   \n",
       "1859697                              Fell St at Stanyan St             377   \n",
       "1861073                                 Broadway at Kearny              44   \n",
       "1861122                       Grand Ave at Santa Clara Ave             193   \n",
       "1861731  San Francisco Ferry Building (Harry Bridges Pl...              15   \n",
       "1861822  Yerba Buena Center for the Arts (Howard St at ...             324   \n",
       "1862616                                Jones St at Post St               5   \n",
       "\n",
       "                                          end_station_name   user_type  \\\n",
       "0                               Webster St at O'Farrell St  Subscriber   \n",
       "1        San Francisco Ferry Building (Harry Bridges Pl...    Customer   \n",
       "2                                    5th St at Virginia St    Customer   \n",
       "3                                    4th St at Harrison St    Customer   \n",
       "4                                     Post St at Kearny St  Subscriber   \n",
       "85                                 Addison St at Fourth St  Subscriber   \n",
       "86                                    Market St at 10th St    Customer   \n",
       "655                          The Embarcadero at Sansome St    Customer   \n",
       "657                          The Embarcadero at Sansome St    Customer   \n",
       "746           Powell St BART Station (Market St at 5th St)    Customer   \n",
       "981                          The Embarcadero at Sansome St    Customer   \n",
       "1451                         The Embarcadero at Sansome St    Customer   \n",
       "1746                           Cyril Magnin St at Ellis St  Subscriber   \n",
       "1837        San Francisco Caltrain (Townsend St at 4th St)    Customer   \n",
       "2029                                 Berkeley Civic Center    Customer   \n",
       "2036                                  Bryant St at 15th St    Customer   \n",
       "2228                                 Spear St at Folsom St    Customer   \n",
       "2266                                   Folsom St at 3rd St    Customer   \n",
       "2619                                 14th St at Mission St  Subscriber   \n",
       "2669                           Bancroft Way at College Ave  Subscriber   \n",
       "3036                                 Sanchez St at 17th St    Customer   \n",
       "4120                                Central Ave at Fell St    Customer   \n",
       "4153                                  29th St at Church St    Customer   \n",
       "4188                                  Folsom St at 15th St  Subscriber   \n",
       "4202                                Central Ave at Fell St    Customer   \n",
       "4467                                          Precita Park    Customer   \n",
       "4632                           El Embarcadero at Grand Ave  Subscriber   \n",
       "5277                                    West St at 40th St    Customer   \n",
       "5535                            Golden Gate Ave at Polk St    Customer   \n",
       "5539                            Golden Gate Ave at Polk St    Customer   \n",
       "...                                                    ...         ...   \n",
       "1845455                               Myrtle St at Polk St    Customer   \n",
       "1845457                               Myrtle St at Polk St    Customer   \n",
       "1849385                        Victoria Manalo Draves Park    Customer   \n",
       "1849491  San Francisco Ferry Building (Harry Bridges Pl...    Customer   \n",
       "1849711                           22nd St Caltrain Station  Subscriber   \n",
       "1851920                              Howard St at Beale St  Subscriber   \n",
       "1852651                        Bancroft Way at College Ave    Customer   \n",
       "1854017  San Francisco Caltrain Station 2  (Townsend St...  Subscriber   \n",
       "1854078                   Lakeshore Ave at Trestle Glen Rd  Subscriber   \n",
       "1854226     San Francisco Caltrain (Townsend St at 4th St)  Subscriber   \n",
       "1855287                           San Jose Diridon Station    Customer   \n",
       "1855989                                5th St at Taylor St    Customer   \n",
       "1856356  Civic Center/UN Plaza BART Station (Market St ...    Customer   \n",
       "1857390                            Oregon St at Adeline St  Subscriber   \n",
       "1857957                                 Mission Playground    Customer   \n",
       "1858601   Embarcadero BART Station (Beale St at Market St)  Subscriber   \n",
       "1858744                         Lombard St at Columbus Ave    Customer   \n",
       "1858883                         Golden Gate Ave at Polk St  Subscriber   \n",
       "1858884                         Golden Gate Ave at Polk St  Subscriber   \n",
       "1859098       Powell St BART Station (Market St at 5th St)  Subscriber   \n",
       "1859393                         Lombard St at Columbus Ave    Customer   \n",
       "1859395                         Lombard St at Columbus Ave    Customer   \n",
       "1859396                         Lombard St at Columbus Ave    Customer   \n",
       "1859696                              Fell St at Stanyan St    Customer   \n",
       "1859697                              Fell St at Stanyan St    Customer   \n",
       "1861073  Civic Center/UN Plaza BART Station (Market St ...  Subscriber   \n",
       "1861122                       Grand Ave at Santa Clara Ave    Customer   \n",
       "1861731  San Francisco Ferry Building (Harry Bridges Pl...    Customer   \n",
       "1861822                Union Square (Powell St at Post St)  Subscriber   \n",
       "1862616       Powell St BART Station (Market St at 5th St)    Customer   \n",
       "\n",
       "         member_birth_year member_gender  duration_minutes  \n",
       "0                     1986          Male       1254.733333  \n",
       "1                        0           NaN       1423.700000  \n",
       "2                     1996          Male       1192.933333  \n",
       "3                        0           NaN       1017.933333  \n",
       "4                     1991          Male        666.100000  \n",
       "85                    1979          Male        239.433333  \n",
       "86                    1989          Male        202.783333  \n",
       "655                      0           NaN        348.783333  \n",
       "657                      0           NaN        349.066667  \n",
       "746                      0           NaN        770.983333  \n",
       "981                      0           NaN        302.416667  \n",
       "1451                     0           NaN        230.466667  \n",
       "1746                  1965          Male        361.516667  \n",
       "1837                     0           NaN       1199.916667  \n",
       "2029                  1993          Male        220.800000  \n",
       "2036                  1990        Female        225.283333  \n",
       "2228                     0           NaN       1425.766667  \n",
       "2266                  1989          Male        359.366667  \n",
       "2619                  1968        Female        245.450000  \n",
       "2669                  1998          Male        249.433333  \n",
       "3036                     0           NaN       1029.033333  \n",
       "4120                     0           NaN       1210.700000  \n",
       "4153                     0           NaN        742.550000  \n",
       "4188                  1978          Male        880.766667  \n",
       "4202                     0           NaN       1197.333333  \n",
       "4467                     0           NaN        471.983333  \n",
       "4632                  1966        Female        229.300000  \n",
       "5277                     0           NaN        663.300000  \n",
       "5535                     0           NaN        298.416667  \n",
       "5539                     0           NaN        297.983333  \n",
       "...                    ...           ...               ...  \n",
       "1845455                  0           NaN        213.450000  \n",
       "1845457                  0           NaN        211.500000  \n",
       "1849385               1979        Female        423.700000  \n",
       "1849491                  0           NaN        279.550000  \n",
       "1849711               1991          Male        258.166667  \n",
       "1851920               1968          Male        864.666667  \n",
       "1852651                  0           NaN        251.766667  \n",
       "1854017               1990          Male        529.966667  \n",
       "1854078               1952          Male        204.516667  \n",
       "1854226               1965        Female        493.050000  \n",
       "1855287               1985          Male        543.483333  \n",
       "1855989                  0           NaN       1208.700000  \n",
       "1856356               1994          Male        806.650000  \n",
       "1857390               1962        Female        931.100000  \n",
       "1857957               1987          Male        932.083333  \n",
       "1858601               1991          Male        248.300000  \n",
       "1858744               1997        Female        455.750000  \n",
       "1858883               1995          Male        327.083333  \n",
       "1858884               1989          Male        350.900000  \n",
       "1859098               1997        Female        236.083333  \n",
       "1859393               1985          Male        301.650000  \n",
       "1859395               1985          Male        301.666667  \n",
       "1859396               1985          Male        300.916667  \n",
       "1859696                  0           NaN        361.600000  \n",
       "1859697                  0           NaN        346.333333  \n",
       "1861073               1982          Male        397.066667  \n",
       "1861122               1991          Male        234.700000  \n",
       "1861731                  0           NaN        233.933333  \n",
       "1861822               1993          Male        216.500000  \n",
       "1862616               1988        Female        382.616667  \n",
       "\n",
       "[7040 rows x 14 columns]"
      ]
     },
     "execution_count": 23,
     "metadata": {},
     "output_type": "execute_result"
    }
   ],
   "source": [
    "# select high outliers, using criteria eyeballed from the plots. Here we select those which have duration > 200 minutes\n",
    "\n",
    "high_outliers = ((df['duration_minutes'] > 200))\n",
    "print(high_outliers.value_counts())\n",
    "pd.DataFrame((df.loc[high_outliers,:]))"
   ]
  },
  {
   "cell_type": "markdown",
   "metadata": {
    "slideshow": {
     "slide_type": "skip"
    }
   },
   "source": [
    "**Observation: Bike ride duration thus has a long-tailed distribution and is right-skewed. Most of the observations lie in between 1-50 minutes. The observations steeply increase from 0, maximum number of rides are between 5-10 minutes long and then gradually decline.  The observations beyond 200 minutes can be considered as outliers. We will try to identify these outliers and see if they need to be filtered out of the data. We will further investigate if the duration also varies by user groups and by day of week.**"
   ]
  },
  {
   "cell_type": "markdown",
   "metadata": {
    "slideshow": {
     "slide_type": "skip"
    }
   },
   "source": [
    "  "
   ]
  },
  {
   "cell_type": "markdown",
   "metadata": {
    "slideshow": {
     "slide_type": "skip"
    }
   },
   "source": [
    "### Rides by Month\n"
   ]
  },
  {
   "cell_type": "markdown",
   "metadata": {
    "slideshow": {
     "slide_type": "skip"
    }
   },
   "source": [
    "\n",
    "I'll next have a look at the distribution of the bike rides by months, to see if there is uniformity throughout the year, or if particular months are more busy or less busy than others.\n",
    "\n",
    "To analyse by months and day of the week, we will first need to find the month and day of the week from the given date. We add two new columns 'month' and 'dayof week' to our dataframe. Initially these columns are populated with the digits corresponding to the month and day, that is, for month column, we have 1 for January, 2 for February and so on. Similarly we have 0 for Monday, 1 for Tuesday and so on for days of the week. Then these values are further formatted to display the month name (first three characters) and the day of the week"
   ]
  },
  {
   "cell_type": "code",
   "execution_count": 24,
   "metadata": {
    "slideshow": {
     "slide_type": "skip"
    }
   },
   "outputs": [],
   "source": [
    "import calendar\n",
    "df['start_date'] = pd.to_datetime(df['start_date'])\n",
    "df['month'] = df['start_date'].dt.month\n",
    "df['dayofweek'] = df['start_date'].dt.dayofweek"
   ]
  },
  {
   "cell_type": "code",
   "execution_count": 25,
   "metadata": {
    "slideshow": {
     "slide_type": "skip"
    }
   },
   "outputs": [],
   "source": [
    "df['month'] = df['month'].apply(lambda x: calendar.month_abbr[x])\n",
    "df['dayofweek'] = pd.to_datetime(df['start_date'], format='%m/%d/%y').dt.weekday_name"
   ]
  },
  {
   "cell_type": "code",
   "execution_count": 26,
   "metadata": {
    "slideshow": {
     "slide_type": "skip"
    }
   },
   "outputs": [
    {
     "data": {
      "text/html": [
       "<div>\n",
       "<style scoped>\n",
       "    .dataframe tbody tr th:only-of-type {\n",
       "        vertical-align: middle;\n",
       "    }\n",
       "\n",
       "    .dataframe tbody tr th {\n",
       "        vertical-align: top;\n",
       "    }\n",
       "\n",
       "    .dataframe thead th {\n",
       "        text-align: right;\n",
       "    }\n",
       "</style>\n",
       "<table border=\"1\" class=\"dataframe\">\n",
       "  <thead>\n",
       "    <tr style=\"text-align: right;\">\n",
       "      <th></th>\n",
       "      <th>start_date</th>\n",
       "      <th>start_time</th>\n",
       "      <th>end_date</th>\n",
       "      <th>end_time</th>\n",
       "      <th>hour_of_day</th>\n",
       "      <th>duration_sec</th>\n",
       "      <th>start_station_id</th>\n",
       "      <th>start_station_name</th>\n",
       "      <th>end_station_id</th>\n",
       "      <th>end_station_name</th>\n",
       "      <th>user_type</th>\n",
       "      <th>member_birth_year</th>\n",
       "      <th>member_gender</th>\n",
       "      <th>duration_minutes</th>\n",
       "      <th>month</th>\n",
       "      <th>dayofweek</th>\n",
       "    </tr>\n",
       "  </thead>\n",
       "  <tbody>\n",
       "    <tr>\n",
       "      <th>20180</th>\n",
       "      <td>2018-01-26</td>\n",
       "      <td>13:06:54.864000</td>\n",
       "      <td>2018-01-26</td>\n",
       "      <td>13:17:08.737000</td>\n",
       "      <td>13</td>\n",
       "      <td>613</td>\n",
       "      <td>245</td>\n",
       "      <td>Downtown Berkeley BART</td>\n",
       "      <td>274</td>\n",
       "      <td>Oregon St at Adeline St</td>\n",
       "      <td>Subscriber</td>\n",
       "      <td>1946</td>\n",
       "      <td>Male</td>\n",
       "      <td>10.216667</td>\n",
       "      <td>Jan</td>\n",
       "      <td>Friday</td>\n",
       "    </tr>\n",
       "    <tr>\n",
       "      <th>906796</th>\n",
       "      <td>2018-07-18</td>\n",
       "      <td>17:49:10.306000</td>\n",
       "      <td>2018-07-18</td>\n",
       "      <td>17:55:32.972000</td>\n",
       "      <td>17</td>\n",
       "      <td>382</td>\n",
       "      <td>11</td>\n",
       "      <td>Davis St at Jackson St</td>\n",
       "      <td>22</td>\n",
       "      <td>Howard St at Beale St</td>\n",
       "      <td>Subscriber</td>\n",
       "      <td>1967</td>\n",
       "      <td>Male</td>\n",
       "      <td>6.366667</td>\n",
       "      <td>Jul</td>\n",
       "      <td>Wednesday</td>\n",
       "    </tr>\n",
       "    <tr>\n",
       "      <th>1017461</th>\n",
       "      <td>2018-07-01</td>\n",
       "      <td>11:55:51.434000</td>\n",
       "      <td>2018-07-01</td>\n",
       "      <td>12:39:43.848000</td>\n",
       "      <td>11</td>\n",
       "      <td>2632</td>\n",
       "      <td>197</td>\n",
       "      <td>El Embarcadero at Grand Ave</td>\n",
       "      <td>197</td>\n",
       "      <td>El Embarcadero at Grand Ave</td>\n",
       "      <td>Customer</td>\n",
       "      <td>1986</td>\n",
       "      <td>Male</td>\n",
       "      <td>43.866667</td>\n",
       "      <td>Jul</td>\n",
       "      <td>Sunday</td>\n",
       "    </tr>\n",
       "    <tr>\n",
       "      <th>266631</th>\n",
       "      <td>2018-03-14</td>\n",
       "      <td>17:38:37.010000</td>\n",
       "      <td>2018-03-14</td>\n",
       "      <td>17:45:12.338000</td>\n",
       "      <td>17</td>\n",
       "      <td>395</td>\n",
       "      <td>59</td>\n",
       "      <td>S Van Ness Ave at Market St</td>\n",
       "      <td>44</td>\n",
       "      <td>Civic Center/UN Plaza BART Station (Market St ...</td>\n",
       "      <td>Subscriber</td>\n",
       "      <td>1985</td>\n",
       "      <td>Female</td>\n",
       "      <td>6.583333</td>\n",
       "      <td>Mar</td>\n",
       "      <td>Wednesday</td>\n",
       "    </tr>\n",
       "    <tr>\n",
       "      <th>437874</th>\n",
       "      <td>2018-04-02</td>\n",
       "      <td>17:59:57.576000</td>\n",
       "      <td>2018-04-02</td>\n",
       "      <td>18:14:57.756000</td>\n",
       "      <td>17</td>\n",
       "      <td>900</td>\n",
       "      <td>42</td>\n",
       "      <td>San Francisco City Hall (Polk St at Grove St)</td>\n",
       "      <td>133</td>\n",
       "      <td>Valencia St at 22nd St</td>\n",
       "      <td>Subscriber</td>\n",
       "      <td>1986</td>\n",
       "      <td>Female</td>\n",
       "      <td>15.000000</td>\n",
       "      <td>Apr</td>\n",
       "      <td>Monday</td>\n",
       "    </tr>\n",
       "  </tbody>\n",
       "</table>\n",
       "</div>"
      ],
      "text/plain": [
       "        start_date       start_time    end_date         end_time  hour_of_day  \\\n",
       "20180   2018-01-26  13:06:54.864000  2018-01-26  13:17:08.737000           13   \n",
       "906796  2018-07-18  17:49:10.306000  2018-07-18  17:55:32.972000           17   \n",
       "1017461 2018-07-01  11:55:51.434000  2018-07-01  12:39:43.848000           11   \n",
       "266631  2018-03-14  17:38:37.010000  2018-03-14  17:45:12.338000           17   \n",
       "437874  2018-04-02  17:59:57.576000  2018-04-02  18:14:57.756000           17   \n",
       "\n",
       "         duration_sec  start_station_id  \\\n",
       "20180             613               245   \n",
       "906796            382                11   \n",
       "1017461          2632               197   \n",
       "266631            395                59   \n",
       "437874            900                42   \n",
       "\n",
       "                                    start_station_name  end_station_id  \\\n",
       "20180                           Downtown Berkeley BART             274   \n",
       "906796                          Davis St at Jackson St              22   \n",
       "1017461                    El Embarcadero at Grand Ave             197   \n",
       "266631                     S Van Ness Ave at Market St              44   \n",
       "437874   San Francisco City Hall (Polk St at Grove St)             133   \n",
       "\n",
       "                                          end_station_name   user_type  \\\n",
       "20180                              Oregon St at Adeline St  Subscriber   \n",
       "906796                               Howard St at Beale St  Subscriber   \n",
       "1017461                        El Embarcadero at Grand Ave    Customer   \n",
       "266631   Civic Center/UN Plaza BART Station (Market St ...  Subscriber   \n",
       "437874                              Valencia St at 22nd St  Subscriber   \n",
       "\n",
       "         member_birth_year member_gender  duration_minutes month  dayofweek  \n",
       "20180                 1946          Male         10.216667   Jan     Friday  \n",
       "906796                1967          Male          6.366667   Jul  Wednesday  \n",
       "1017461               1986          Male         43.866667   Jul     Sunday  \n",
       "266631                1985        Female          6.583333   Mar  Wednesday  \n",
       "437874                1986        Female         15.000000   Apr     Monday  "
      ]
     },
     "execution_count": 26,
     "metadata": {},
     "output_type": "execute_result"
    }
   ],
   "source": [
    "df.sample(5)"
   ]
  },
  {
   "cell_type": "markdown",
   "metadata": {
    "slideshow": {
     "slide_type": "skip"
    }
   },
   "source": [
    "We then use a bar plot to explore the distribution of the bike rides by months."
   ]
  },
  {
   "cell_type": "code",
   "execution_count": 27,
   "metadata": {
    "slideshow": {
     "slide_type": "skip"
    }
   },
   "outputs": [
    {
     "data": {
      "image/png": "[encoded data removed]",
      "text/plain": [
       "<Figure size 864x576 with 1 Axes>"
      ]
     },
     "metadata": {
      "needs_background": "light"
     },
     "output_type": "display_data"
    }
   ],
   "source": [
    "base_color = sb.color_palette()[0]\n",
    "sb.countplot(data=df, x='month',color = base_color);\n",
    "plt.ylabel('No of Bike Rides Count',fontsize=14)\n",
    "plt.xlabel('Month',fontsize=14)\n",
    "plt.title('Bike Rides Count by Month',fontsize=18)\n",
    "plt.gcf().set_size_inches(12,8)"
   ]
  },
  {
   "cell_type": "markdown",
   "metadata": {
    "slideshow": {
     "slide_type": "skip"
    }
   },
   "source": [
    "**Observation: We observe that there is an increase in the number of rides during the summer and this number falls during the winter months. The maximum activity is observed in the period between May to October. There is a sharp decline in the number of users between November and January, and then it gradually starts increasing again during the spring months. The peak numbers are observed in July and October**"
   ]
  },
  {
   "cell_type": "markdown",
   "metadata": {
    "slideshow": {
     "slide_type": "skip"
    }
   },
   "source": [
    "  "
   ]
  },
  {
   "cell_type": "markdown",
   "metadata": {
    "slideshow": {
     "slide_type": "skip"
    }
   },
   "source": [
    "### Rides by Day of the week"
   ]
  },
  {
   "cell_type": "markdown",
   "metadata": {
    "slideshow": {
     "slide_type": "skip"
    }
   },
   "source": [
    "Next we observe the distribution by day of the week."
   ]
  },
  {
   "cell_type": "code",
   "execution_count": 28,
   "metadata": {
    "slideshow": {
     "slide_type": "skip"
    }
   },
   "outputs": [
    {
     "data": {
      "image/png": "[encoded data removed]",
      "text/plain": [
       "<Figure size 864x576 with 1 Axes>"
      ]
     },
     "metadata": {
      "needs_background": "light"
     },
     "output_type": "display_data"
    }
   ],
   "source": [
    "base_color = sb.color_palette()[0]\n",
    "dayofweek_order = df['dayofweek'].value_counts().index\n",
    "sb.countplot(data=df, x='dayofweek',color = base_color,order = dayofweek_order);\n",
    "plt.ylabel('No of Bike Rides Count',fontsize=14)\n",
    "plt.xlabel('Day of the Week',fontsize=14)\n",
    "plt.title('Bike Rides Count by Day of the Week',fontsize=18)\n",
    "plt.gcf().set_size_inches(12,8)"
   ]
  },
  {
   "cell_type": "markdown",
   "metadata": {
    "slideshow": {
     "slide_type": "skip"
    }
   },
   "source": [
    "**Observation: Usage is much more on weekdays and drops substantially on weekends. The highest activity is recorded mid-week between Tuesdays and Thursdays, whereas the lowest activity is seen on Sundays. We will further explore this behavior of weekday and weekend use between different user groups.**"
   ]
  },
  {
   "cell_type": "markdown",
   "metadata": {
    "slideshow": {
     "slide_type": "skip"
    }
   },
   "source": [
    "  "
   ]
  },
  {
   "cell_type": "markdown",
   "metadata": {
    "slideshow": {
     "slide_type": "skip"
    }
   },
   "source": [
    "### Rides by Hour"
   ]
  },
  {
   "cell_type": "markdown",
   "metadata": {
    "slideshow": {
     "slide_type": "skip"
    }
   },
   "source": [
    "We observe the bike usage throughout the day."
   ]
  },
  {
   "cell_type": "code",
   "execution_count": 29,
   "metadata": {
    "slideshow": {
     "slide_type": "skip"
    }
   },
   "outputs": [
    {
     "data": {
      "image/png": "[encoded data removed]",
      "text/plain": [
       "<Figure size 864x576 with 1 Axes>"
      ]
     },
     "metadata": {
      "needs_background": "light"
     },
     "output_type": "display_data"
    }
   ],
   "source": [
    "binsize = 1\n",
    "bins = np.arange(1, df['hour_of_day'].max()+binsize, binsize)\n",
    "plt.figure(figsize=[12, 8])\n",
    "plt.hist(data = df, x = 'hour_of_day', bins = bins)\n",
    "plt.xticks([0,1,2,3,4,5,6,7,8,9,10,11,12,13,14,15,16,17,18,19,20,21,22,23,24])\n",
    "plt.ylabel('No of Bike Rides Count',fontsize=14)\n",
    "plt.xlabel('Time of the day in Hours',fontsize=14)\n",
    "plt.title('Bike Rides Count by Hour',fontsize=18)\n",
    "plt.gcf().set_size_inches(12,8)"
   ]
  },
  {
   "cell_type": "markdown",
   "metadata": {
    "slideshow": {
     "slide_type": "skip"
    }
   },
   "source": [
    "**Observation: We see that there is less activity during the early morning hours. We see spikes between 8am-9am, and between 5pm-6pm(17-18 hours). This indicates peak activity amongst users while commuting to and from work. There is a small increase at noon which could indicate lunchtime use. Usage falls before and after the peak hours. We will further investigate this behavior between different user groups.**"
   ]
  },
  {
   "cell_type": "markdown",
   "metadata": {
    "slideshow": {
     "slide_type": "skip"
    }
   },
   "source": [
    "  "
   ]
  },
  {
   "cell_type": "markdown",
   "metadata": {
    "slideshow": {
     "slide_type": "skip"
    }
   },
   "source": [
    "### Most Popular Stations\n",
    "\n"
   ]
  },
  {
   "cell_type": "markdown",
   "metadata": {
    "slideshow": {
     "slide_type": "skip"
    }
   },
   "source": [
    "We have a look at the stations which have the highest number of users starting or ending their journey at that station."
   ]
  },
  {
   "cell_type": "markdown",
   "metadata": {
    "slideshow": {
     "slide_type": "skip"
    }
   },
   "source": [
    "**Most Popular Starting Stations**"
   ]
  },
  {
   "cell_type": "code",
   "execution_count": 30,
   "metadata": {
    "slideshow": {
     "slide_type": "skip"
    }
   },
   "outputs": [
    {
     "data": {
      "text/html": [
       "<div>\n",
       "<style scoped>\n",
       "    .dataframe tbody tr th:only-of-type {\n",
       "        vertical-align: middle;\n",
       "    }\n",
       "\n",
       "    .dataframe tbody tr th {\n",
       "        vertical-align: top;\n",
       "    }\n",
       "\n",
       "    .dataframe thead th {\n",
       "        text-align: right;\n",
       "    }\n",
       "</style>\n",
       "<table border=\"1\" class=\"dataframe\">\n",
       "  <thead>\n",
       "    <tr style=\"text-align: right;\">\n",
       "      <th></th>\n",
       "      <th>Start Station Name</th>\n",
       "      <th>Number of Rides</th>\n",
       "    </tr>\n",
       "  </thead>\n",
       "  <tbody>\n",
       "    <tr>\n",
       "      <th>0</th>\n",
       "      <td>San Francisco Ferry Building (Harry Bridges Pl...</td>\n",
       "      <td>38461</td>\n",
       "    </tr>\n",
       "    <tr>\n",
       "      <th>1</th>\n",
       "      <td>San Francisco Caltrain Station 2  (Townsend St...</td>\n",
       "      <td>37617</td>\n",
       "    </tr>\n",
       "    <tr>\n",
       "      <th>2</th>\n",
       "      <td>San Francisco Caltrain (Townsend St at 4th St)</td>\n",
       "      <td>35092</td>\n",
       "    </tr>\n",
       "    <tr>\n",
       "      <th>3</th>\n",
       "      <td>Market St at 10th St</td>\n",
       "      <td>34918</td>\n",
       "    </tr>\n",
       "    <tr>\n",
       "      <th>4</th>\n",
       "      <td>Berry St at 4th St</td>\n",
       "      <td>33716</td>\n",
       "    </tr>\n",
       "    <tr>\n",
       "      <th>5</th>\n",
       "      <td>The Embarcadero at Sansome St</td>\n",
       "      <td>33390</td>\n",
       "    </tr>\n",
       "    <tr>\n",
       "      <th>6</th>\n",
       "      <td>Montgomery St BART Station (Market St at 2nd St)</td>\n",
       "      <td>32131</td>\n",
       "    </tr>\n",
       "    <tr>\n",
       "      <th>7</th>\n",
       "      <td>Powell St BART Station (Market St at 4th St)</td>\n",
       "      <td>31656</td>\n",
       "    </tr>\n",
       "    <tr>\n",
       "      <th>8</th>\n",
       "      <td>Steuart St at Market St</td>\n",
       "      <td>28367</td>\n",
       "    </tr>\n",
       "    <tr>\n",
       "      <th>9</th>\n",
       "      <td>Howard St at Beale St</td>\n",
       "      <td>26535</td>\n",
       "    </tr>\n",
       "  </tbody>\n",
       "</table>\n",
       "</div>"
      ],
      "text/plain": [
       "                                  Start Station Name  Number of Rides\n",
       "0  San Francisco Ferry Building (Harry Bridges Pl...            38461\n",
       "1  San Francisco Caltrain Station 2  (Townsend St...            37617\n",
       "2     San Francisco Caltrain (Townsend St at 4th St)            35092\n",
       "3                               Market St at 10th St            34918\n",
       "4                                 Berry St at 4th St            33716\n",
       "5                      The Embarcadero at Sansome St            33390\n",
       "6   Montgomery St BART Station (Market St at 2nd St)            32131\n",
       "7       Powell St BART Station (Market St at 4th St)            31656\n",
       "8                            Steuart St at Market St            28367\n",
       "9                              Howard St at Beale St            26535"
      ]
     },
     "execution_count": 30,
     "metadata": {},
     "output_type": "execute_result"
    }
   ],
   "source": [
    "df_start = pd.DataFrame(df['start_station_name'].value_counts().head(10)).reset_index()\n",
    "df_start.columns = [\"Start Station Name\", \"Number of Rides\"]\n",
    "df_start"
   ]
  },
  {
   "cell_type": "markdown",
   "metadata": {
    "slideshow": {
     "slide_type": "skip"
    }
   },
   "source": [
    "**Most Popular Destination Stations**"
   ]
  },
  {
   "cell_type": "code",
   "execution_count": 31,
   "metadata": {
    "slideshow": {
     "slide_type": "skip"
    }
   },
   "outputs": [
    {
     "data": {
      "text/html": [
       "<div>\n",
       "<style scoped>\n",
       "    .dataframe tbody tr th:only-of-type {\n",
       "        vertical-align: middle;\n",
       "    }\n",
       "\n",
       "    .dataframe tbody tr th {\n",
       "        vertical-align: top;\n",
       "    }\n",
       "\n",
       "    .dataframe thead th {\n",
       "        text-align: right;\n",
       "    }\n",
       "</style>\n",
       "<table border=\"1\" class=\"dataframe\">\n",
       "  <thead>\n",
       "    <tr style=\"text-align: right;\">\n",
       "      <th></th>\n",
       "      <th>Destination Station Name</th>\n",
       "      <th>Number of Rides</th>\n",
       "    </tr>\n",
       "  </thead>\n",
       "  <tbody>\n",
       "    <tr>\n",
       "      <th>0</th>\n",
       "      <td>San Francisco Caltrain Station 2  (Townsend St...</td>\n",
       "      <td>50000</td>\n",
       "    </tr>\n",
       "    <tr>\n",
       "      <th>1</th>\n",
       "      <td>San Francisco Ferry Building (Harry Bridges Pl...</td>\n",
       "      <td>44113</td>\n",
       "    </tr>\n",
       "    <tr>\n",
       "      <th>2</th>\n",
       "      <td>San Francisco Caltrain (Townsend St at 4th St)</td>\n",
       "      <td>42970</td>\n",
       "    </tr>\n",
       "    <tr>\n",
       "      <th>3</th>\n",
       "      <td>The Embarcadero at Sansome St</td>\n",
       "      <td>39222</td>\n",
       "    </tr>\n",
       "    <tr>\n",
       "      <th>4</th>\n",
       "      <td>Montgomery St BART Station (Market St at 2nd St)</td>\n",
       "      <td>35955</td>\n",
       "    </tr>\n",
       "    <tr>\n",
       "      <th>5</th>\n",
       "      <td>Market St at 10th St</td>\n",
       "      <td>34365</td>\n",
       "    </tr>\n",
       "    <tr>\n",
       "      <th>6</th>\n",
       "      <td>Powell St BART Station (Market St at 4th St)</td>\n",
       "      <td>33086</td>\n",
       "    </tr>\n",
       "    <tr>\n",
       "      <th>7</th>\n",
       "      <td>Berry St at 4th St</td>\n",
       "      <td>32786</td>\n",
       "    </tr>\n",
       "    <tr>\n",
       "      <th>8</th>\n",
       "      <td>Steuart St at Market St</td>\n",
       "      <td>28592</td>\n",
       "    </tr>\n",
       "    <tr>\n",
       "      <th>9</th>\n",
       "      <td>Powell St BART Station (Market St at 5th St)</td>\n",
       "      <td>26002</td>\n",
       "    </tr>\n",
       "  </tbody>\n",
       "</table>\n",
       "</div>"
      ],
      "text/plain": [
       "                            Destination Station Name  Number of Rides\n",
       "0  San Francisco Caltrain Station 2  (Townsend St...            50000\n",
       "1  San Francisco Ferry Building (Harry Bridges Pl...            44113\n",
       "2     San Francisco Caltrain (Townsend St at 4th St)            42970\n",
       "3                      The Embarcadero at Sansome St            39222\n",
       "4   Montgomery St BART Station (Market St at 2nd St)            35955\n",
       "5                               Market St at 10th St            34365\n",
       "6       Powell St BART Station (Market St at 4th St)            33086\n",
       "7                                 Berry St at 4th St            32786\n",
       "8                            Steuart St at Market St            28592\n",
       "9       Powell St BART Station (Market St at 5th St)            26002"
      ]
     },
     "execution_count": 31,
     "metadata": {},
     "output_type": "execute_result"
    }
   ],
   "source": [
    "df_end = pd.DataFrame(df['end_station_name'].value_counts().head(10)).reset_index()\n",
    "df_end.columns = [\"Destination Station Name\", \"Number of Rides\"]\n",
    "df_end"
   ]
  },
  {
   "cell_type": "markdown",
   "metadata": {
    "slideshow": {
     "slide_type": "skip"
    }
   },
   "source": [
    "  "
   ]
  },
  {
   "cell_type": "markdown",
   "metadata": {
    "slideshow": {
     "slide_type": "slide"
    }
   },
   "source": [
    "### Rides by Subscribers Vs Customers"
   ]
  },
  {
   "cell_type": "markdown",
   "metadata": {
    "slideshow": {
     "slide_type": "subslide"
    }
   },
   "source": [
    "**Determine who are the main users of the service:**\n",
    "\n",
    "- **Who uses the service more frequently - Subscribers or Customers?**\n",
    "\n",
    "\n",
    "- **What is the proportion of the number of Subscribers and Customers?**"
   ]
  },
  {
   "cell_type": "code",
   "execution_count": 54,
   "metadata": {
    "slideshow": {
     "slide_type": "subslide"
    }
   },
   "outputs": [
    {
     "data": {
      "image/png": "[encoded data removed]",
      "text/plain": [
       "<Figure size 432x288 with 1 Axes>"
      ]
     },
     "metadata": {},
     "output_type": "display_data"
    }
   ],
   "source": [
    "plt.pie(df['user_type'].value_counts(), labels = df['user_type'].value_counts().index,startangle = 90,radius =1.6,autopct='%1.0f%%');\n",
    "plt.title('Types of Users',fontsize=18, y=1.2);"
   ]
  },
  {
   "cell_type": "markdown",
   "metadata": {
    "slideshow": {
     "slide_type": "skip"
    }
   },
   "source": [
    "**Observation: Most users (approximately 85%) are Subscribers who have an annual membership plan. Only 15% approximately are Customers, who have purchased a Single Ride or Access Pass.**"
   ]
  },
  {
   "cell_type": "markdown",
   "metadata": {
    "slideshow": {
     "slide_type": "skip"
    }
   },
   "source": [
    "  "
   ]
  },
  {
   "cell_type": "markdown",
   "metadata": {
    "slideshow": {
     "slide_type": "slide"
    }
   },
   "source": [
    "### Rides by Age Group of Users"
   ]
  },
  {
   "cell_type": "markdown",
   "metadata": {
    "slideshow": {
     "slide_type": "subslide"
    }
   },
   "source": [
    "**Find out the age group of people who use the service:**\n",
    "\n",
    "\n",
    "- **What is the age group of the users?**\n",
    "\n",
    "\n",
    "- **Is the service more popular among a particular age group?**"
   ]
  },
  {
   "cell_type": "markdown",
   "metadata": {
    "slideshow": {
     "slide_type": "skip"
    }
   },
   "source": [
    "We'll next check out the distribution of riders by their age group. We introduce a new column in the dataframe called **'age'**. The age is obtained by subtracting the Year of Birth from 2018 (the year when the data is recorded). "
   ]
  },
  {
   "cell_type": "code",
   "execution_count": 33,
   "metadata": {
    "slideshow": {
     "slide_type": "skip"
    }
   },
   "outputs": [],
   "source": [
    "df['age']= 2018 - df['member_birth_year']"
   ]
  },
  {
   "cell_type": "code",
   "execution_count": 34,
   "metadata": {
    "slideshow": {
     "slide_type": "skip"
    }
   },
   "outputs": [
    {
     "data": {
      "text/html": [
       "<div>\n",
       "<style scoped>\n",
       "    .dataframe tbody tr th:only-of-type {\n",
       "        vertical-align: middle;\n",
       "    }\n",
       "\n",
       "    .dataframe tbody tr th {\n",
       "        vertical-align: top;\n",
       "    }\n",
       "\n",
       "    .dataframe thead th {\n",
       "        text-align: right;\n",
       "    }\n",
       "</style>\n",
       "<table border=\"1\" class=\"dataframe\">\n",
       "  <thead>\n",
       "    <tr style=\"text-align: right;\">\n",
       "      <th></th>\n",
       "      <th>start_date</th>\n",
       "      <th>start_time</th>\n",
       "      <th>end_date</th>\n",
       "      <th>end_time</th>\n",
       "      <th>hour_of_day</th>\n",
       "      <th>duration_sec</th>\n",
       "      <th>start_station_id</th>\n",
       "      <th>start_station_name</th>\n",
       "      <th>end_station_id</th>\n",
       "      <th>end_station_name</th>\n",
       "      <th>user_type</th>\n",
       "      <th>member_birth_year</th>\n",
       "      <th>member_gender</th>\n",
       "      <th>duration_minutes</th>\n",
       "      <th>month</th>\n",
       "      <th>dayofweek</th>\n",
       "      <th>age</th>\n",
       "    </tr>\n",
       "  </thead>\n",
       "  <tbody>\n",
       "    <tr>\n",
       "      <th>1100191</th>\n",
       "      <td>2018-08-18</td>\n",
       "      <td>14:20:34.004000</td>\n",
       "      <td>2018-08-18</td>\n",
       "      <td>14:36:23.436000</td>\n",
       "      <td>14</td>\n",
       "      <td>949</td>\n",
       "      <td>241</td>\n",
       "      <td>Ashby BART Station</td>\n",
       "      <td>265</td>\n",
       "      <td>Ninth St at Parker St</td>\n",
       "      <td>Customer</td>\n",
       "      <td>1996</td>\n",
       "      <td>Male</td>\n",
       "      <td>15.816667</td>\n",
       "      <td>Aug</td>\n",
       "      <td>Saturday</td>\n",
       "      <td>22</td>\n",
       "    </tr>\n",
       "    <tr>\n",
       "      <th>1398304</th>\n",
       "      <td>2018-10-31</td>\n",
       "      <td>18:08:16.846000</td>\n",
       "      <td>2018-10-31</td>\n",
       "      <td>18:25:58.841000</td>\n",
       "      <td>18</td>\n",
       "      <td>1061</td>\n",
       "      <td>126</td>\n",
       "      <td>Esprit Park</td>\n",
       "      <td>15</td>\n",
       "      <td>San Francisco Ferry Building (Harry Bridges Pl...</td>\n",
       "      <td>Subscriber</td>\n",
       "      <td>1968</td>\n",
       "      <td>Female</td>\n",
       "      <td>17.683333</td>\n",
       "      <td>Oct</td>\n",
       "      <td>Wednesday</td>\n",
       "      <td>50</td>\n",
       "    </tr>\n",
       "    <tr>\n",
       "      <th>357954</th>\n",
       "      <td>2018-04-21</td>\n",
       "      <td>23:38:22.578000</td>\n",
       "      <td>2018-04-21</td>\n",
       "      <td>23:43:55.264000</td>\n",
       "      <td>23</td>\n",
       "      <td>332</td>\n",
       "      <td>21</td>\n",
       "      <td>Montgomery St BART Station (Market St at 2nd St)</td>\n",
       "      <td>10</td>\n",
       "      <td>Washington St at Kearny St</td>\n",
       "      <td>Subscriber</td>\n",
       "      <td>1995</td>\n",
       "      <td>Male</td>\n",
       "      <td>5.533333</td>\n",
       "      <td>Apr</td>\n",
       "      <td>Saturday</td>\n",
       "      <td>23</td>\n",
       "    </tr>\n",
       "    <tr>\n",
       "      <th>1130478</th>\n",
       "      <td>2018-08-13</td>\n",
       "      <td>21:03:52.568000</td>\n",
       "      <td>2018-08-13</td>\n",
       "      <td>21:09:21.242000</td>\n",
       "      <td>21</td>\n",
       "      <td>328</td>\n",
       "      <td>66</td>\n",
       "      <td>3rd St at Townsend St</td>\n",
       "      <td>37</td>\n",
       "      <td>2nd St at Folsom St</td>\n",
       "      <td>Subscriber</td>\n",
       "      <td>1975</td>\n",
       "      <td>Male</td>\n",
       "      <td>5.466667</td>\n",
       "      <td>Aug</td>\n",
       "      <td>Monday</td>\n",
       "      <td>43</td>\n",
       "    </tr>\n",
       "    <tr>\n",
       "      <th>1100826</th>\n",
       "      <td>2018-08-18</td>\n",
       "      <td>11:53:16.140000</td>\n",
       "      <td>2018-08-18</td>\n",
       "      <td>12:42:22.862000</td>\n",
       "      <td>11</td>\n",
       "      <td>2946</td>\n",
       "      <td>70</td>\n",
       "      <td>Central Ave at Fell St</td>\n",
       "      <td>70</td>\n",
       "      <td>Central Ave at Fell St</td>\n",
       "      <td>Customer</td>\n",
       "      <td>0</td>\n",
       "      <td>NaN</td>\n",
       "      <td>49.100000</td>\n",
       "      <td>Aug</td>\n",
       "      <td>Saturday</td>\n",
       "      <td>2018</td>\n",
       "    </tr>\n",
       "  </tbody>\n",
       "</table>\n",
       "</div>"
      ],
      "text/plain": [
       "        start_date       start_time    end_date         end_time  hour_of_day  \\\n",
       "1100191 2018-08-18  14:20:34.004000  2018-08-18  14:36:23.436000           14   \n",
       "1398304 2018-10-31  18:08:16.846000  2018-10-31  18:25:58.841000           18   \n",
       "357954  2018-04-21  23:38:22.578000  2018-04-21  23:43:55.264000           23   \n",
       "1130478 2018-08-13  21:03:52.568000  2018-08-13  21:09:21.242000           21   \n",
       "1100826 2018-08-18  11:53:16.140000  2018-08-18  12:42:22.862000           11   \n",
       "\n",
       "         duration_sec  start_station_id  \\\n",
       "1100191           949               241   \n",
       "1398304          1061               126   \n",
       "357954            332                21   \n",
       "1130478           328                66   \n",
       "1100826          2946                70   \n",
       "\n",
       "                                       start_station_name  end_station_id  \\\n",
       "1100191                                Ashby BART Station             265   \n",
       "1398304                                       Esprit Park              15   \n",
       "357954   Montgomery St BART Station (Market St at 2nd St)              10   \n",
       "1130478                             3rd St at Townsend St              37   \n",
       "1100826                            Central Ave at Fell St              70   \n",
       "\n",
       "                                          end_station_name   user_type  \\\n",
       "1100191                              Ninth St at Parker St    Customer   \n",
       "1398304  San Francisco Ferry Building (Harry Bridges Pl...  Subscriber   \n",
       "357954                          Washington St at Kearny St  Subscriber   \n",
       "1130478                                2nd St at Folsom St  Subscriber   \n",
       "1100826                             Central Ave at Fell St    Customer   \n",
       "\n",
       "         member_birth_year member_gender  duration_minutes month  dayofweek  \\\n",
       "1100191               1996          Male         15.816667   Aug   Saturday   \n",
       "1398304               1968        Female         17.683333   Oct  Wednesday   \n",
       "357954                1995          Male          5.533333   Apr   Saturday   \n",
       "1130478               1975          Male          5.466667   Aug     Monday   \n",
       "1100826                  0           NaN         49.100000   Aug   Saturday   \n",
       "\n",
       "          age  \n",
       "1100191    22  \n",
       "1398304    50  \n",
       "357954     23  \n",
       "1130478    43  \n",
       "1100826  2018  "
      ]
     },
     "execution_count": 34,
     "metadata": {},
     "output_type": "execute_result"
    }
   ],
   "source": [
    "df.sample(5)"
   ]
  },
  {
   "cell_type": "code",
   "execution_count": 35,
   "metadata": {
    "slideshow": {
     "slide_type": "skip"
    }
   },
   "outputs": [
    {
     "data": {
      "text/plain": [
       "count    1.863721e+06\n",
       "mean     1.527213e+02\n",
       "std      4.688814e+02\n",
       "min      1.800000e+01\n",
       "25%      2.800000e+01\n",
       "50%      3.300000e+01\n",
       "75%      4.300000e+01\n",
       "max      2.018000e+03\n",
       "Name: age, dtype: float64"
      ]
     },
     "execution_count": 35,
     "metadata": {},
     "output_type": "execute_result"
    }
   ],
   "source": [
    "df['age'].describe()"
   ]
  },
  {
   "cell_type": "markdown",
   "metadata": {
    "slideshow": {
     "slide_type": "skip"
    }
   },
   "source": [
    "We observe that the minimum age is 18. For the purposes of this analysis, we will assume that users who have a recorded age of > 100 either have filled in their Date of Birth incorrectly, or have not provided this information (example the users who had no Date of Birth recorded had a value of 0 in this column, therefore they have their age appearing as 2018). We will consider these points as outliers and exclude them from our analysis as they can be assumed to be incorrect data. We will focus on the age range 18-100 years"
   ]
  },
  {
   "cell_type": "code",
   "execution_count": 36,
   "metadata": {
    "slideshow": {
     "slide_type": "subslide"
    }
   },
   "outputs": [
    {
     "data": {
      "image/png": "[encoded data removed]",
      "text/plain": [
       "<Figure size 1008x576 with 1 Axes>"
      ]
     },
     "metadata": {
      "needs_background": "light"
     },
     "output_type": "display_data"
    }
   ],
   "source": [
    "binsize = 5\n",
    "bins = np.arange(15, 105, binsize)\n",
    "plt.figure(figsize=[14, 8])\n",
    "plt.hist(data = df, x = 'age', bins = bins)\n",
    "plt.xticks([15,20,25,30,35,40,45,50,55,60,65,70,75,80,85,90,95,100])\n",
    "plt.ylabel('No of Bike Rides Count',fontsize=14)\n",
    "plt.xlabel('Age Group of Users',fontsize=14)\n",
    "plt.title('Bike Rides Count by Age Group',fontsize=18)\n",
    "plt.show()"
   ]
  },
  {
   "cell_type": "markdown",
   "metadata": {
    "slideshow": {
     "slide_type": "skip"
    }
   },
   "source": [
    "**Observation: We observe that most of the data points lie in the range of 20-60 years age. The distribution follows a bell curve skewed towards the right. Maximum users fall within the 25-35 age bracket, and then the numbers gradually falls off with age. There are very few users aged above 75.**"
   ]
  },
  {
   "cell_type": "markdown",
   "metadata": {
    "slideshow": {
     "slide_type": "skip"
    }
   },
   "source": [
    "  "
   ]
  },
  {
   "cell_type": "markdown",
   "metadata": {
    "slideshow": {
     "slide_type": "skip"
    }
   },
   "source": [
    "### Discuss the distribution(s) of your variable(s) of interest. Were there any unusual points? Did you need to perform any transformations?\n"
   ]
  },
  {
   "cell_type": "markdown",
   "metadata": {
    "slideshow": {
     "slide_type": "skip"
    }
   },
   "source": [
    "### Key Insights\n",
    "\n",
    "1. Bike ride duration has a long-tailed distribution and is right-skewed, with a peak between 5-8 minutes which then gradually falls off. There are few outliers > 200 minutes which may need to be looked at separately.\n",
    "\n",
    "\n",
    "2. Bike ride count by month shows increased usage during the summer months between May and October, with a decrease in use during the other months.\n",
    "\n",
    "\n",
    "3. Bike ride usage by day of the week shows usage is much more on weekdays and drops substantially on weekends. The highest activity is recorded mid-week between Tuesdays and Thursdays, whereas the lowest activity is seen on Sundays. \n",
    "\n",
    "\n",
    "4. Bike ride usage by hour shows spikes between 8am-9am, and between 5pm-6pm, which indicates peak activity amongst users while commuting to and from work. There is a small increase at noon which could indicate lunchtime use. Usage falls before and after the peak hours, with less activity during the night and early morning hours. \n",
    "\n",
    "\n",
    "5. There are a number of stations which are popular both as the origin and destination points of journeys.\n",
    "\n",
    "\n",
    "6. Most users (approximately 85%) are subscribers, and only 15% approximately are customers.\n",
    "\n",
    "\n",
    "7. Bike ride usage by age group show that most users are between 20-60 years age. The distribution follows a bell curve skewed towards the right. Maximum users fall within the 25-35 age bracket, and then the numbers gradually falls off with age. Users who have not provided their date of birth or provided an incorrect one (which can be assumed for users having age > 100) are  not considered for age analysis as these can be assumed to be incorrect entries.\n",
    "\n"
   ]
  },
  {
   "cell_type": "markdown",
   "metadata": {
    "slideshow": {
     "slide_type": "skip"
    }
   },
   "source": [
    "\n",
    "### Of the features you investigated, were there any unusual distributions? Did you perform any operations on the data to tidy, adjust, or change the form of the data? If so, why did you do this?\n",
    "\n",
    "The outliers that were identified for Bike Ride Duration and Age variables, were excluded while analysing their distributions."
   ]
  },
  {
   "cell_type": "markdown",
   "metadata": {
    "slideshow": {
     "slide_type": "skip"
    }
   },
   "source": [
    "## Bivariate Exploration\n",
    "\n",
    "> In this section, we investigate relationships between pairs of variables in the data, following on from the variables that were introduced earlier in the Univariate Exploration section."
   ]
  },
  {
   "cell_type": "markdown",
   "metadata": {
    "slideshow": {
     "slide_type": "skip"
    }
   },
   "source": [
    "We will attempt to explore the relationship between User Type (Subscriber/ Consumer) and the Bike Ride Duration, Usage by Days of the week and Hourly Usage."
   ]
  },
  {
   "cell_type": "markdown",
   "metadata": {
    "slideshow": {
     "slide_type": "slide"
    }
   },
   "source": [
    "### Rides by Duration and Customer Type"
   ]
  },
  {
   "cell_type": "markdown",
   "metadata": {
    "slideshow": {
     "slide_type": "subslide"
    }
   },
   "source": [
    "**Investigate differences in behavior between Subscribers and Customers with respect to their usage durations:**\n",
    "\n",
    "\n",
    "- **Who takes longer rides - Subscribers or Customers?**\n",
    "\n",
    "\n",
    "- **What is the median trip duration for Subscribers and for Customers?**"
   ]
  },
  {
   "cell_type": "code",
   "execution_count": 37,
   "metadata": {
    "slideshow": {
     "slide_type": "skip"
    }
   },
   "outputs": [
    {
     "name": "stderr",
     "output_type": "stream",
     "text": [
      "C:\\Users\\User\\Anaconda3\\lib\\site-packages\\scipy\\stats\\stats.py:1713: FutureWarning: Using a non-tuple sequence for multidimensional indexing is deprecated; use `arr[tuple(seq)]` instead of `arr[seq]`. In the future this will be interpreted as an array index, `arr[np.array(seq)]`, which will result either in an error or a different result.\n",
      "  return np.add.reduce(sorted[indexer] * weights, axis=axis) / sumval\n"
     ]
    },
    {
     "data": {
      "text/plain": [
       "(-20.0, 250.0)"
      ]
     },
     "execution_count": 37,
     "metadata": {},
     "output_type": "execute_result"
    },
    {
     "data": {
      "image/png": "[encoded data removed]",
      "text/plain": [
       "<Figure size 864x432 with 2 Axes>"
      ]
     },
     "metadata": {
      "needs_background": "light"
     },
     "output_type": "display_data"
    }
   ],
   "source": [
    "base_color = sb.color_palette()[0]\n",
    "fig = plt.figure(figsize = [12, 6])\n",
    "fig.suptitle(\"Duration of Ride According to User Type\",size = 20)\n",
    "fig.text(0.5, 0.04, 'User Type', ha='center', va='center',size = 14)\n",
    "fig.text(0.06, 0.5, 'Duration of Ride in minutes', ha='center', va='center', rotation='vertical',size = 14)\n",
    "\n",
    "\n",
    "# left plot: violin plot\n",
    "plt.subplot(1, 2, 1)\n",
    "ax1 = sb.violinplot(data = df, x = 'user_type', y = 'duration_minutes', color = \"c\");\n",
    "ax1.title.set_text('Violin Plot')\n",
    "plt.grid(True)\n",
    "plt.ylim(-20,250);\n",
    "\n",
    "# right plot: box plot\n",
    "plt.subplot(1, 2, 2)\n",
    "ax2 = sb.boxplot(data = df, x = 'user_type', y = 'duration_minutes', color= \"c\");\n",
    "ax2.title.set_text('Box Plot')\n",
    "plt.grid(True)\n",
    "plt.ylim(ax1.get_ylim()) # set y-axis limits to be same as left plot;"
   ]
  },
  {
   "cell_type": "markdown",
   "metadata": {
    "slideshow": {
     "slide_type": "skip"
    }
   },
   "source": [
    "**To have a better understanding of the data, we will repeat the same analysis by excluding outliers having ride duration > 200 minutes**"
   ]
  },
  {
   "cell_type": "code",
   "execution_count": 38,
   "metadata": {
    "slideshow": {
     "slide_type": "subslide"
    }
   },
   "outputs": [
    {
     "data": {
      "text/plain": [
       "(0.0, 70.0)"
      ]
     },
     "execution_count": 38,
     "metadata": {},
     "output_type": "execute_result"
    },
    {
     "data": {
      "image/png": "[encoded data removed]",
      "text/plain": [
       "<Figure size 1008x432 with 2 Axes>"
      ]
     },
     "metadata": {
      "needs_background": "light"
     },
     "output_type": "display_data"
    }
   ],
   "source": [
    "df_duration = df[df['duration_minutes'] < 200] # exclude outliers in the dataset with duration >200 minutes\n",
    "base_color = sb.color_palette()[0]\n",
    "fig = plt.figure(figsize = [14, 6])\n",
    "fig.suptitle(\"Duration of Ride According to User Type\",size = 20)\n",
    "fig.text(0.5, 0.04, 'User Type', ha='center', va='center',size = 14)\n",
    "fig.text(0.06, 0.5, 'Duration of Ride in minutes', ha='center', va='center', rotation='vertical',size = 14)\n",
    "\n",
    "# left plot: violin plot\n",
    "plt.subplot(1, 2, 1);\n",
    "ax1 = sb.violinplot(data = df_duration, x = 'user_type', y = 'duration_minutes', color = \"c\");\n",
    "ax1.title.set_text('Violin Plot')\n",
    "plt.grid(True);\n",
    "plt.ylim(0,70);\n",
    "\n",
    "# right plot: box plot\n",
    "plt.subplot(1, 2, 2);\n",
    "ax2 = sb.boxplot(data = df_duration, x = 'user_type', y = 'duration_minutes', color = \"c\");\n",
    "ax2.title.set_text('Box Plot')\n",
    "plt.grid(True);\n",
    "plt.ylim(ax1.get_ylim()) # set y-axis limits to be same as left plot;"
   ]
  },
  {
   "cell_type": "markdown",
   "metadata": {
    "slideshow": {
     "slide_type": "skip"
    }
   },
   "source": [
    "**Observation: We notice that the duration of trip, on an average, is higher for customers than for subscribers. The median trip duration for subscribers is around 9 minutes, whereas for subscribers it is higher at around 15 minutes. Moreover, only very few subscribers take longer than 30 minutes as compared to customers. Also, longer trips exceeding 30 minutes are more likely undertaken by customers instead of subscribers.**"
   ]
  },
  {
   "cell_type": "markdown",
   "metadata": {
    "slideshow": {
     "slide_type": "skip"
    }
   },
   "source": [
    "  "
   ]
  },
  {
   "cell_type": "markdown",
   "metadata": {
    "slideshow": {
     "slide_type": "slide"
    }
   },
   "source": [
    "### Rides by Day of Week and Customer Type"
   ]
  },
  {
   "cell_type": "markdown",
   "metadata": {
    "slideshow": {
     "slide_type": "subslide"
    }
   },
   "source": [
    "**Explore usage trends during the week:**\n",
    "\n",
    "\n",
    "- **How does the Subscriber usage vary over the week? Are there any noticeable differences between weekdays and weekends use?**\n",
    "\n",
    "\n",
    "- **How does the Customer usage vary over the week? Are there any noticeable differences between weekdays and weekends use?**"
   ]
  },
  {
   "cell_type": "code",
   "execution_count": 39,
   "metadata": {
    "slideshow": {
     "slide_type": "subslide"
    }
   },
   "outputs": [
    {
     "data": {
      "image/png": "[encoded data removed]",
      "text/plain": [
       "<Figure size 864x576 with 1 Axes>"
      ]
     },
     "metadata": {
      "needs_background": "light"
     },
     "output_type": "display_data"
    }
   ],
   "source": [
    "dayofweek_order = df['dayofweek'].value_counts().index\n",
    "sb.countplot(data = df, x = 'dayofweek', hue = 'user_type',order = dayofweek_order)\n",
    "plt.ylabel('No of Bike Rides Count',fontsize=14)\n",
    "plt.xlabel('Day of the Week',fontsize=14)\n",
    "plt.title('Bike Rides Count by Day of the Week',fontsize=18)\n",
    "plt.gcf().set_size_inches(12,8);"
   ]
  },
  {
   "cell_type": "markdown",
   "metadata": {
    "slideshow": {
     "slide_type": "skip"
    }
   },
   "source": [
    "**Observation: Most trips on weekdays are undertaken by subscribers, customers constitute a much smaller chunk of users on weekdays. However, the number of subscribers falls off substantially on weekends, while the number of customers increases on weekends.**"
   ]
  },
  {
   "cell_type": "markdown",
   "metadata": {
    "slideshow": {
     "slide_type": "skip"
    }
   },
   "source": [
    "  "
   ]
  },
  {
   "cell_type": "markdown",
   "metadata": {
    "slideshow": {
     "slide_type": "slide"
    }
   },
   "source": [
    "### Rides by Hour of the Day and Customer Type"
   ]
  },
  {
   "cell_type": "markdown",
   "metadata": {
    "slideshow": {
     "slide_type": "subslide"
    }
   },
   "source": [
    "**Analyse how the service is utilised throughout the day:**\n",
    "\n",
    "\n",
    "- **How does the usage vary over the 24 hours of the day?**\n",
    "\n",
    "\n",
    "- **Are there any fluctuations or peak times of usage?**"
   ]
  },
  {
   "cell_type": "code",
   "execution_count": 40,
   "metadata": {
    "slideshow": {
     "slide_type": "subslide"
    }
   },
   "outputs": [
    {
     "data": {
      "image/png": "[encoded data removed]",
      "text/plain": [
       "<Figure size 864x576 with 1 Axes>"
      ]
     },
     "metadata": {
      "needs_background": "light"
     },
     "output_type": "display_data"
    }
   ],
   "source": [
    "sb.countplot(data = df, x = 'hour_of_day', hue = 'user_type')\n",
    "plt.ylabel('No of Bike Rides Count',fontsize=14)\n",
    "plt.xlabel('Hour of the Day',fontsize=14)\n",
    "plt.title('Bike Rides Count by Hour of the Day',fontsize=18)\n",
    "plt.gcf().set_size_inches(12,8);"
   ]
  },
  {
   "cell_type": "markdown",
   "metadata": {
    "slideshow": {
     "slide_type": "skip"
    }
   },
   "source": [
    "**Observation: For subscribers, we observe peak ride times at 8 am and 5 pm, with a much smaller peak at around noon. For customers, we notice that the usage shows an increasing trend as the day progresses, but the difference is less pronounced. It reaches a maximum between 4pm-6pm (16-18 hours) and then gradually falls off again.**"
   ]
  },
  {
   "cell_type": "markdown",
   "metadata": {
    "slideshow": {
     "slide_type": "skip"
    }
   },
   "source": [
    "  "
   ]
  },
  {
   "cell_type": "markdown",
   "metadata": {
    "slideshow": {
     "slide_type": "slide"
    }
   },
   "source": [
    "### Rides by Month and Customer Type"
   ]
  },
  {
   "cell_type": "markdown",
   "metadata": {
    "slideshow": {
     "slide_type": "subslide"
    }
   },
   "source": [
    "**Determine any Seasonal Impact on the use:**\n",
    "\n",
    "\n",
    "- **Does usage remain uniform throughout the year?**\n",
    "\n",
    "\n",
    "- **Are there any particular months when usage increases or decreases?**"
   ]
  },
  {
   "cell_type": "code",
   "execution_count": 41,
   "metadata": {
    "slideshow": {
     "slide_type": "subslide"
    }
   },
   "outputs": [
    {
     "data": {
      "image/png": "[encoded data removed]",
      "text/plain": [
       "<Figure size 864x576 with 1 Axes>"
      ]
     },
     "metadata": {
      "needs_background": "light"
     },
     "output_type": "display_data"
    }
   ],
   "source": [
    "sb.countplot(data = df, x = 'month', hue = 'user_type')\n",
    "plt.ylabel('No of Bike Rides Count',fontsize=14)\n",
    "plt.xlabel('Month',fontsize=14)\n",
    "plt.title('Bike Rides Count by Month',fontsize=18)\n",
    "plt.gcf().set_size_inches(12,8);"
   ]
  },
  {
   "cell_type": "markdown",
   "metadata": {
    "slideshow": {
     "slide_type": "skip"
    }
   },
   "source": [
    "**Observation: Both subscribers and customers show increasing usage during the summer months between May-October, and a decrease in use in the other months.**"
   ]
  },
  {
   "cell_type": "markdown",
   "metadata": {
    "slideshow": {
     "slide_type": "skip"
    }
   },
   "source": [
    " "
   ]
  },
  {
   "cell_type": "markdown",
   "metadata": {
    "slideshow": {
     "slide_type": "skip"
    }
   },
   "source": [
    "### Relationships you observed in this part of the investigation\n"
   ]
  },
  {
   "cell_type": "markdown",
   "metadata": {
    "slideshow": {
     "slide_type": "skip"
    }
   },
   "source": [
    "### Key Insights\n",
    "\n",
    "1. Subscribers, on an average,take shorter duration rides compared to customers. \n",
    "\n",
    "\n",
    "2. The vast majority of users on weekdays are subscribers, whereas on weekends the number of subscribers decreases. The number of customers are more on weekends compared to weekdays. \n",
    "\n",
    "\n",
    "3.  For subscribers, the peak times 8 am and 5 pm, with a much smaller peak at around noon. For customers, there is an increasing trend as the day progresses, but the difference is less pronounced and maximum rides occur between 4pm-6pm (16-18 hours).\n",
    "\n",
    "\n",
    "4. Bike ride count by month shows increased usage during the summer months between May and October, with a decrease in use during the other months for both subscribers and customers.\n"
   ]
  },
  {
   "cell_type": "markdown",
   "metadata": {
    "slideshow": {
     "slide_type": "skip"
    }
   },
   "source": [
    "### Interesting relationships between the other features (not the main feature(s) of interest)?\n",
    "\n",
    "The relationship between the variables was as expected. An interesting observation was that the number of subscribers peaked during October."
   ]
  },
  {
   "cell_type": "markdown",
   "metadata": {
    "slideshow": {
     "slide_type": "skip"
    }
   },
   "source": [
    "## Multivariate Exploration"
   ]
  },
  {
   "cell_type": "markdown",
   "metadata": {
    "slideshow": {
     "slide_type": "skip"
    }
   },
   "source": [
    "> In this section, we will analyse the relationship between three variables. We choose to look at the distribution of trip duration according to User Type and Day of the week."
   ]
  },
  {
   "cell_type": "markdown",
   "metadata": {
    "slideshow": {
     "slide_type": "slide"
    }
   },
   "source": [
    "### Duration of the Trip in minutes according to User Type and Day of the week."
   ]
  },
  {
   "cell_type": "markdown",
   "metadata": {
    "slideshow": {
     "slide_type": "subslide"
    }
   },
   "source": [
    "**Determine behavior variation among Subscribers and Customers with respect to Duration of Trip and Day of the week:**\n",
    "\n",
    "\n",
    "- **Is there any noticeable difference between median duration of trips undertaken by Subscribers and Customers?**\n",
    "\n",
    "\n",
    "\n",
    "- **If there is a difference, then does this vary during the week?**"
   ]
  },
  {
   "cell_type": "code",
   "execution_count": 42,
   "metadata": {
    "slideshow": {
     "slide_type": "subslide"
    }
   },
   "outputs": [
    {
     "data": {
      "text/plain": [
       "Text(0.5, 0.98, 'Bike Rides Duration by User Type and Day of the Week')"
      ]
     },
     "execution_count": 42,
     "metadata": {},
     "output_type": "execute_result"
    },
    {
     "data": {
      "image/png": "[encoded data removed]",
      "text/plain": [
       "<Figure size 936x360 with 2 Axes>"
      ]
     },
     "metadata": {
      "needs_background": "light"
     },
     "output_type": "display_data"
    }
   ],
   "source": [
    "df_duration = df[df['duration_minutes'] < 200]\n",
    "dayofweek_order = df['dayofweek'].value_counts().index\n",
    "g = sb.FacetGrid(data = df_duration, col = 'user_type', height = 5,aspect=1.3,margin_titles=False)\n",
    "plt.ylim(0,70)\n",
    "g.map(sb.boxplot, 'dayofweek', 'duration_minutes', order = dayofweek_order,color=\"c\");\n",
    "g.set_xlabels('Day of the Week', size=18)\n",
    "g.set_ylabels('Duration in Minutes', size=18)\n",
    "plt.subplots_adjust(top=0.8)\n",
    "g.fig.suptitle(\"Bike Rides Duration by User Type and Day of the Week\",size=20)"
   ]
  },
  {
   "cell_type": "markdown",
   "metadata": {
    "slideshow": {
     "slide_type": "skip"
    }
   },
   "source": [
    "**Observation: It is observed that the median trip duration for subscribers remains more or less constant throughout the week at below 10 minutes. The median trip duration for customers remains higher than that of subscribers on all days of the week. However, this difference is greater on weekends than on weekdays. This can be explained by the longer trips undertaken by customers on weekends compared to weekdays.**"
   ]
  },
  {
   "cell_type": "markdown",
   "metadata": {
    "slideshow": {
     "slide_type": "skip"
    }
   },
   "source": [
    "  "
   ]
  },
  {
   "cell_type": "markdown",
   "metadata": {
    "slideshow": {
     "slide_type": "skip"
    }
   },
   "source": [
    "### Relationships you observed in this part of the investigation.  Were there any features that strengthened each other in terms of looking at your feature(s) of interest?\n",
    "\n",
    "The findings in this section support our previous observations and are as expected. Most subscribers who purchase an annual membership, rent the bikes to ride to and from work and therefore, the median trip duration for subscribers remains more or less constant on all days. The average trip duration is also less than 10 minutes. However longer trips are undertaken by customers who purchase a single ride or short-term access pass. Customers, on an average, use the bikes for longer duration trips on weekends compared to weekdays. \n",
    "\n",
    "### Were there any interesting or surprising interactions between features?\n",
    "\n",
    "We have derived some interesting insights from the dataset, however the overall findings are consistent with our expected results. "
   ]
  },
  {
   "cell_type": "markdown",
   "metadata": {
    "slideshow": {
     "slide_type": "slide"
    }
   },
   "source": [
    "## Key Findings and Insights.\n",
    "\n",
    "\n",
    "\n",
    "- Bike ride duration has a long-tailed distribution and is right-skewed, with a peak between 5-8 minutes.\n",
    "\n",
    "\n",
    "- Most users (approximately 85%) are subscribers, and only 15% approximately are customers.\n",
    "\n",
    "\n",
    "-  Subscribers, on an average,take shorter duration rides compared to customers. \n",
    "\n",
    "\n",
    "- The vast majority of users on weekdays are subscribers, whereas on weekdays the number of subscribers decreases. The number of customers are more on weekends compared to weekdays. \n",
    "\n",
    "\n",
    "- For subscribers, the peak times 8 am and 5 pm, with a much smaller peak at around noon. For customers, there is an increasing trend as the day progresses, but the difference is less pronounced and maximum rides occur between 4pm-6pm (16-18 hours).\n",
    "\n",
    "\n",
    "- Bike ride count by month shows increased usage during the summer months between May and October, with a decrease in use during the other months for both subscribers and customers.\n",
    "\n",
    "\n"
   ]
  },
  {
   "cell_type": "markdown",
   "metadata": {},
   "source": [
    "  "
   ]
  },
  {
   "cell_type": "markdown",
   "metadata": {},
   "source": [
    "## Resources:\n",
    "\n",
    "\n",
    "https://stackoverflow.com/questions/47013973/pandas-converts-float64-to-int\n",
    "https://stackoverflow.com/questions/41918115/how-do-i-extract-the-date-year-month-from-pandas-dataframe\n",
    "https://stackoverflow.com/questions/39370879/extract-hour-from-timestamp-with-python\n",
    "https://stackoverflow.com/questions/28009370/get-weekday-day-of-week-for-datetime-column-of-dataframe\n",
    "https://stackoverflow.com/questions/37625334/python-pandas-convert-month-int-to-month-name\n",
    "https://stackoverflow.com/questions/21572870/matplotlib-percent-label-position-in-pie-chart\n",
    "https://stackoverflow.com/questions/29813694/how-to-add-a-title-to-seaborn-facet-plot\n",
    "https://stackoverflow.com/questions/39370584/how-do-you-add-an-overall-title-to-a-figure-with-subplots-in-matplotlib\n",
    "https://stackoverflow.com/questions/6963035/pyplot-axes-labels-for-subplots"
   ]
  },
  {
   "cell_type": "code",
   "execution_count": null,
   "metadata": {},
   "outputs": [],
   "source": []
  }
 ],
 "metadata": {
  "kernelspec": {
   "display_name": "Python 3",
   "language": "python",
   "name": "python3"
  },
  "language_info": {
   "codemirror_mode": {
    "name": "ipython",
    "version": 3
   },
   "file_extension": ".py",
   "mimetype": "text/x-python",
   "name": "python",
   "nbconvert_exporter": "python",
   "pygments_lexer": "ipython3",
   "version": "3.6.7"
  }
 },
 "nbformat": 4,
 "nbformat_minor": 2
}
